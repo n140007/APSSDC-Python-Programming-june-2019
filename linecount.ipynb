{
 "cells": [
  {
   "cell_type": "code",
   "execution_count": 1,
   "metadata": {},
   "outputs": [
    {
     "name": "stdout",
     "output_type": "stream",
     "text": [
      "On a distant planet far away from Earth lives a boy named Aman.He loves to run everyday.But his running distance is directly affected by how much horlicks his mother mixed in his milk today.If his mother has mixed x grams of horlicks,then Aman will be capable of running 100*x meters at most on that day. Aman's instructor, Mr.Sharma ,is a very strict yet very caring.Everyday he asks Aman to run around a circle of radius r once.If Aman is able to complete the circle,he would get a toffee. "
     ]
    }
   ],
   "source": [
    "with open(\"sample.txt\", 'r') as fh:\n",
    "    lines = fh.readlines()\n",
    "    for line in lines:\n",
    "        print(line, end=' ')\n",
    "        \n",
    "    "
   ]
  },
  {
   "cell_type": "code",
   "execution_count": 13,
   "metadata": {},
   "outputs": [
    {
     "name": "stdout",
     "output_type": "stream",
     "text": [
      "1.On a distant planet far away from Earth lives a boy named Aman.He loves to run everyday.But his running distance is directly \n",
      " 2.affected by how much horlicks his mother mixed in his milk today.If his mother has mixed x grams of horlicks,then Aman will be\n",
      " 3.capable of running 100*x meters at most on that day. Aman's instructor, Mr.Sharma ,is a very strict yet very caring.Everyday he \n",
      " 4.asks Aman to run around a circle of radius r once.If Aman is able to complete the circle,he would get a toffee. "
     ]
    }
   ],
   "source": [
    "with open(\"sample.txt\", 'r') as fh:\n",
    "    lineno = 1\n",
    "    lines = fh.readlines()\n",
    "    for line in lines:\n",
    "        print(line, end=\"\", sep=\".\")\n",
    "        lineno +=1"
   ]
  },
  {
   "cell_type": "code",
   "execution_count": 12,
   "metadata": {},
   "outputs": [],
   "source": [
    "with open(\"sample.txt\", 'r+') as fh: # here fh for reading\n",
    "    lineno = 1\n",
    "    lines = fh.readlines()\n",
    "    # below code for writing\n",
    "    fw = open(\"sample.txt\", \"w\")\n",
    "    for line in lines:\n",
    "        print(lineno, line, end=' ', sep='.', file = fw)  # here fw for writing # end=\"\" to remove \\n\n",
    "        lineno +=1\n",
    "    fw.close()"
   ]
  },
  {
   "cell_type": "code",
   "execution_count": null,
   "metadata": {},
   "outputs": [],
   "source": []
  }
 ],
 "metadata": {
  "kernelspec": {
   "display_name": "Python 3",
   "language": "python",
   "name": "python3"
  },
  "language_info": {
   "codemirror_mode": {
    "name": "ipython",
    "version": 3
   },
   "file_extension": ".py",
   "mimetype": "text/x-python",
   "name": "python",
   "nbconvert_exporter": "python",
   "pygments_lexer": "ipython3",
   "version": "3.7.3"
  }
 },
 "nbformat": 4,
 "nbformat_minor": 2
}
