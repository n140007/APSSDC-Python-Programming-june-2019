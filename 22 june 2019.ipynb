{
 "cells": [
  {
   "cell_type": "markdown",
   "metadata": {},
   "source": [
    "## Day Objectives\n",
    "- File Handling\n",
    "    - Basic File Data Processing\n",
    "        - Accessing and Modifying File Data\n",
    "    - Character Count\n",
    "    - Line Count\n",
    "    - File Size\n",
    "    - Word Count\n",
    "    - Unique Word Count\n"
   ]
  },
  {
   "cell_type": "code",
   "execution_count": 5,
   "metadata": {},
   "outputs": [
    {
     "name": "stdout",
     "output_type": "stream",
     "text": [
      "<class '_io.TextIOWrapper'>\n"
     ]
    }
   ],
   "source": [
    "# If u want to Read a File - File Should be exist(Read Mode)\n",
    "# If u want to Write a File - Existing(append mode) or new file(Write Mode)\n",
    "\n",
    "\n",
    "def readFile(filenpath):\n",
    "    with open(filepath, 'r') as f: # here f is a reference to the file\n",
    "        print(type(f))\n",
    "    return\n",
    "filepath = \"DataFiles/data.txt\"\n",
    "readFile (filepath)   "
   ]
  },
  {
   "cell_type": "code",
   "execution_count": 6,
   "metadata": {},
   "outputs": [
    {
     "data": {
      "text/plain": [
       "'Line1\\nLine2\\nLine3'"
      ]
     },
     "execution_count": 6,
     "metadata": {},
     "output_type": "execute_result"
    }
   ],
   "source": [
    "def readFile(filepath):\n",
    "    with open(filepath, 'r') as f: # here f is a reference to the file\n",
    "          filedata = f.read()  # Reads the entire File Data into a string\n",
    "    return filedata\n",
    "filepath = \"DataFiles/data.txt\"\n",
    "readFile (filepath)  "
   ]
  },
  {
   "cell_type": "code",
   "execution_count": 8,
   "metadata": {},
   "outputs": [
    {
     "name": "stdout",
     "output_type": "stream",
     "text": [
      "vishnu\n",
      "jyothi\n",
      "satya\n",
      "manju\n"
     ]
    }
   ],
   "source": [
    "# Function to read entire file data into a single sitring\n",
    "\n",
    "def readFile(filepath):\n",
    "    with open(filepath, 'r') as f: # here f is a reference to the file\n",
    "          filedata = f.read()\n",
    "    return filedata\n",
    "filepath = \"DataFiles/data.txt\"\n",
    "print(readFile (filepath)) "
   ]
  },
  {
   "cell_type": "code",
   "execution_count": 47,
   "metadata": {},
   "outputs": [
    {
     "name": "stdout",
     "output_type": "stream",
     "text": [
      "Number of words:\n",
      "4\n"
     ]
    }
   ],
   "source": [
    "fname = \"DataFiles/data.txt\"\n",
    " \n",
    "num_words = 0\n",
    " \n",
    "with open(fname, 'r') as f:\n",
    "    for line in f:\n",
    "        words = line.split()\n",
    "        num_words += len(words)\n",
    "print(\"Number of words:\")\n",
    "print(num_words)"
   ]
  },
  {
   "cell_type": "code",
   "execution_count": 48,
   "metadata": {},
   "outputs": [
    {
     "name": "stdout",
     "output_type": "stream",
     "text": [
      "\n",
      " spaces = 0, \n",
      " characters = 22 \n"
     ]
    }
   ],
   "source": [
    "fname = \"DataFiles/data.txt\"\n",
    "chars = 0\n",
    "space = 0\n",
    "with open(fname, 'r') as f:\n",
    "    for line in f:\n",
    "        if(i== ' '):\n",
    "            space +=1\n",
    "        else:\n",
    "            chars += 1\n",
    "print (\"\\n spaces = {}, \\n characters = {} \".format(space, char))\n"
   ]
  },
  {
   "cell_type": "code",
   "execution_count": 71,
   "metadata": {},
   "outputs": [
    {
     "name": "stdout",
     "output_type": "stream",
     "text": [
      "6\n",
      "1 1 1 2 2 0\n",
      "6\n",
      "1\n",
      "3\n",
      "2\n",
      "2\n",
      "1\n",
      "3\n",
      "0\n",
      "1\n",
      "3\n",
      "NOT PRESENT\n",
      "4\n",
      "NOT PRESENT\n"
     ]
    }
   ],
   "source": [
    "def elementCount(l):\n",
    "    d={}\n",
    "    for i in l:\n",
    "        if i in d:\n",
    "            d[i] +=1\n",
    "        else:\n",
    "            d[i] = 1\n",
    "    return d\n",
    "n = int(input())\n",
    "l = list(map(int,input().split()))\n",
    "q = int(input())\n",
    "d = elementCount(l)\n",
    "for i in range(q):\n",
    "    e = int(input())\n",
    "    if e in d:\n",
    "        print(d[e])\n",
    "    else:\n",
    "        print(\"NOT PRESENT\")\n",
    "\n",
    "    "
   ]
  },
  {
   "cell_type": "code",
   "execution_count": 61,
   "metadata": {},
   "outputs": [
    {
     "data": {
      "text/plain": [
       "{'k1': '1', 'k2': '1', 'k3': '1', 'k4': '2', 'k5': '2', 'k6': '0'}"
      ]
     },
     "execution_count": 61,
     "metadata": {},
     "output_type": "execute_result"
    }
   ],
   "source": [
    "#1 1 1 2 2 0\n",
    "\n",
    "#{1:3, 2:2, 0:1}\n",
    "\n",
    "dl = {'k1':'1', 'k2':'1', 'k3':'1', 'k4':'2', 'k5':'2', 'k6':'0'}\n",
    "dl."
   ]
  },
  {
   "cell_type": "code",
   "execution_count": 63,
   "metadata": {},
   "outputs": [
    {
     "data": {
      "text/plain": [
       "\"<class 'dict'>\""
      ]
     },
     "execution_count": 63,
     "metadata": {},
     "output_type": "execute_result"
    }
   ],
   "source": [
    "str(dict)"
   ]
  },
  {
   "cell_type": "code",
   "execution_count": 67,
   "metadata": {},
   "outputs": [
    {
     "data": {
      "text/plain": [
       "{1: 3, 2: 2, 0: 1}"
      ]
     },
     "execution_count": 67,
     "metadata": {},
     "output_type": "execute_result"
    }
   ],
   "source": [
    "l = [1,1,1,2,2,0]\n",
    "dl = {}\n",
    "for i in l:\n",
    "    if i in dl:\n",
    "        dl[i] += 1\n",
    "    else:\n",
    "        dl[i] = 1\n",
    "dl\n"
   ]
  },
  {
   "cell_type": "code",
   "execution_count": 69,
   "metadata": {},
   "outputs": [
    {
     "data": {
      "text/plain": [
       "{0: 1, 1: 3, 2: 2}"
      ]
     },
     "execution_count": 69,
     "metadata": {},
     "output_type": "execute_result"
    }
   ],
   "source": [
    "dl={}\n",
    "for i in set(l):\n",
    "    dl[i]=l.count(i)\n",
    "dl"
   ]
  },
  {
   "cell_type": "code",
   "execution_count": 70,
   "metadata": {},
   "outputs": [
    {
     "data": {
      "text/plain": [
       "{0, 1, 2}"
      ]
     },
     "execution_count": 70,
     "metadata": {},
     "output_type": "execute_result"
    }
   ],
   "source": [
    "set(l)"
   ]
  },
  {
   "cell_type": "code",
   "execution_count": 87,
   "metadata": {},
   "outputs": [
    {
     "data": {
      "text/plain": [
       "['Data in Line 1', 'Data in Line 2', 'Data in Line 3']"
      ]
     },
     "execution_count": 87,
     "metadata": {},
     "output_type": "execute_result"
    }
   ],
   "source": [
    "# Function to read a file into a list of lines\n",
    "# Each element in the list is one line in the file\n",
    "\n",
    "def readFileIntoList(filepath):\n",
    "    with open(filepath, 'r') as f:\n",
    "        filedata = f.read()\n",
    "        lines = filedata.split('\\n')\n",
    "        # lines = []\n",
    "        # for line in f:\n",
    "            # lines.append(line)\n",
    "    return lines\n",
    "filepath ='DataFiles/data.txt'\n",
    "readFileIntoList(filepath)"
   ]
  },
  {
   "cell_type": "code",
   "execution_count": 15,
   "metadata": {},
   "outputs": [
    {
     "data": {
      "text/plain": [
       "4"
      ]
     },
     "execution_count": 15,
     "metadata": {},
     "output_type": "execute_result"
    }
   ],
   "source": [
    "# Function to count the number of lines in a file\n",
    "\n",
    "def countLinesFile(filepath):\n",
    "    count = len(readFileIntoList(filepath))\n",
    "    return count\n",
    "countLinesFile(filepath)"
   ]
  },
  {
   "cell_type": "code",
   "execution_count": 16,
   "metadata": {},
   "outputs": [
    {
     "data": {
      "text/plain": [
       "25"
      ]
     },
     "execution_count": 16,
     "metadata": {},
     "output_type": "execute_result"
    }
   ],
   "source": [
    "def charCountFile(filepath):\n",
    "    count = len(readFile(filepath))\n",
    "    return count\n",
    "charCountFile(filepath)"
   ]
  },
  {
   "cell_type": "code",
   "execution_count": 19,
   "metadata": {},
   "outputs": [
    {
     "data": {
      "text/plain": [
       "4"
      ]
     },
     "execution_count": 19,
     "metadata": {},
     "output_type": "execute_result"
    }
   ],
   "source": [
    "\n",
    "\n",
    "import re\n",
    "def wordCountFile(filepath):\n",
    "    pattern = '[\\n]'\n",
    "    file = readFile(filepath)\n",
    "    count = len(re.split(pattern,file))\n",
    "    return count\n",
    "wordCountFile(filepath)"
   ]
  },
  {
   "cell_type": "code",
   "execution_count": 22,
   "metadata": {},
   "outputs": [
    {
     "data": {
      "text/plain": [
       "[1, 2, 3]"
      ]
     },
     "execution_count": 22,
     "metadata": {},
     "output_type": "execute_result"
    }
   ],
   "source": [
    "# Function to get unique elements in a list\n",
    "# [1,2,3,3,2,1] -> [1,2,3]\n",
    "# Create a empty unique list [1]\n",
    "\n",
    "\n",
    "def uniqueData(li):\n",
    "    # create an empty unique list\n",
    "    unique = []\n",
    "    \n",
    "    # for every element in the main list, check if it exists in the unique list\n",
    "    # If it doesn't exist, add it to unique list\n",
    "    # else if it already exists, move on to the next elemnt in th main list\n",
    "    for element in li:\n",
    "         if element not in unique:\n",
    "            unique.append(element)\n",
    "    return unique\n",
    "li = [1,2,3,3,2,1]\n",
    "uniqueData(li)\n",
    "    "
   ]
  },
  {
   "cell_type": "code",
   "execution_count": 35,
   "metadata": {},
   "outputs": [
    {
     "data": {
      "text/plain": [
       "['vishnu', 'satya', 'jyothi', 'manju']"
      ]
     },
     "execution_count": 35,
     "metadata": {},
     "output_type": "execute_result"
    }
   ],
   "source": [
    "# Function to find unique data of a file\n",
    "\n",
    "def uniqueData(filepath):\n",
    "    unique = []\n",
    "    \n",
    "    for element in readFileIntoList(filepath) :\n",
    "         if element not in unique:\n",
    "            unique.append(element)\n",
    "    return unique\n",
    "\n",
    "uniqueData(filepath)"
   ]
  },
  {
   "cell_type": "code",
   "execution_count": null,
   "metadata": {},
   "outputs": [],
   "source": [
    "# Function to print the frequency count of a file\n",
    "# Data in Line 1\n",
    "# Data in Line 2\n",
    "# Data in Line 3\n",
    "# o/p\n",
    "# Data :3 \n",
    "# in : 3\n",
    "# 1 : 1\n",
    "# 2 : 1\n",
    "# 3 : 1\n",
    "    \n"
   ]
  },
  {
   "cell_type": "code",
   "execution_count": 88,
   "metadata": {},
   "outputs": [
    {
     "name": "stdout",
     "output_type": "stream",
     "text": [
      "Data in Line 1 : 1\n",
      "Data in Line 2 : 1\n",
      "Data in Line 3 : 1\n"
     ]
    }
   ],
   "source": [
    "# Function to find occurrence of each character in a file\n",
    "def frequency(filepath):\n",
    "    c=uniqueData(filepath)\n",
    "    #print(c)\n",
    "    for j in c:\n",
    "        count = 0\n",
    "        for i in readFileIntoList(filepath):\n",
    "            if j == i:\n",
    "                count=count+1\n",
    "        print (j,\":\",count)\n",
    "frequency(filepath)\n",
    "            \n",
    "\n",
    "    "
   ]
  }
 ],
 "metadata": {
  "kernelspec": {
   "display_name": "Python 3",
   "language": "python",
   "name": "python3"
  },
  "language_info": {
   "codemirror_mode": {
    "name": "ipython",
    "version": 3
   },
   "file_extension": ".py",
   "mimetype": "text/x-python",
   "name": "python",
   "nbconvert_exporter": "python",
   "pygments_lexer": "ipython3",
   "version": "3.7.3"
  }
 },
 "nbformat": 4,
 "nbformat_minor": 2
}
