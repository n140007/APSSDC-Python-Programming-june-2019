{
 "cells": [
  {
   "cell_type": "markdown",
   "metadata": {},
   "source": [
    "## Day Objectives\n",
    "- Regular  Expressions\n",
    "   - Constructing Regular Expressions for various use cases\n",
    "   - Regular Expressions Module an related Expressions in Python\n",
    "   - Improving the Contacts application with name and phone number validation\n",
    "- File Handling\n",
    "   - Text Files\n",
    "   - Upgrading the Contacts Application to store contact information in a text file"
   ]
  },
  {
   "cell_type": "markdown",
   "metadata": {},
   "source": [
    "### Regular Expressions\n",
    "\n",
    "- Pattern Matching\n",
    "- Symbolic Notation of a Pattern\n",
    "   - Pattern : Format which repeats\n",
    "   - Pattern(RE) : Represents The set of all strings match that patterns\n",
    "- [0-9] -> Any digit\n",
    "- [a-z] -> Any lowercase alphabet\n",
    "- ^[0-9]{1}$ -> Only Single digit Number\n",
    "\n",
    "- ^[0-9]{2}$ -> Only Two digit Number\n",
    "\n",
    "- ^[0-9]{3}$ -> Onlyt Three digit Number\n",
    "\n",
    "- [0-9]*0$ -> All multiples of 10\n",
    "\n",
    "- ^([1-9][0-9]*[05])|([5])$ -> All Multiples of 5\n",
    "\n",
    "- [1-9][0-9]{9}$  -> All 10 Digit Numbers\n",
    "\n",
    "- [w][o][r][l][d] or (world) -> Seacrching for a word\n",
    "\n",
    "- [6-9][0-9]{9}$|[0][6-9][0-9]{9}$|^[+][9][1][6-9][0-9]{9}$  ->Validating Phone Number(India)(start with 9876 followed by 9 digits)\n",
    "\n",
    "- ^[0-9a-z][0-9a-z_.]{4,13}[0-9az][@][0-9a-z]{3,18}[0-9a-z][.][a-z]{2,4}$ -> Email validation(username@domain.extension)\n",
    "\n",
    "- Username\n",
    "  - Legth of username : [6,15]\n",
    "  - No special characters other than _ .\n",
    "  - It should not begin and end with _ .\n",
    "  - Character Set : all digits and lowercase alphabet _ .\n",
    "- domain\n",
    "  - Length of domain :  [3, 18]\n",
    "  - No special characters\n",
    "  - Character Set : all digits and lowecase alphabet\n",
    "- extension\n",
    "   - Length of extension: [2,4]\n",
    "   - No special chacraters\n",
    "   - Character Set : all lowercase alphabet\n",
    "- ^[a]...[z]$ --> Any string of length 5 that starts with 'a' and ends with 'z'\n",
    "\n",
    "- ^[a].*[z]$ --> Any string of any legth between a to z.\n"
   ]
  },
  {
   "cell_type": "code",
   "execution_count": 33,
   "metadata": {},
   "outputs": [
    {
     "name": "stdout",
     "output_type": "stream",
     "text": [
      "valid number\n"
     ]
    },
    {
     "data": {
      "text/plain": [
       "True"
      ]
     },
     "execution_count": 33,
     "metadata": {},
     "output_type": "execute_result"
    }
   ],
   "source": [
    "# Function to validate the phone number\n",
    "\n",
    "import re\n",
    "def phoneNumberValidator(number):\n",
    "    pattern = '[6-9][0-9]{9}$|[0][6-9][0-9]{9}$|^[+][9][1][6-9][0-9]{9}$'\n",
    "    if re.match(pattern, str(number)):\n",
    "          print(\"valid number\")\n",
    "    else:\n",
    "          print(\"invalid number\")\n",
    "phoneNumberValidator(7382524966)\n",
    "\n",
    "def emailValidator(email):\n",
    "    pattern = '^[0-9a-z][0-9a-z_.]{4,13}[0-9az][@][0-9a-z]{3,18}[0-9a-z][.][a-z]{2,4}$'\n",
    "    if re.match(pattern,email):\n",
    "        return True\n",
    "    else:\n",
    "        return False\n",
    "emailValidator(\"mangadevigalla@gmail.com\")\n",
    "\n",
    "        "
   ]
  },
  {
   "cell_type": "code",
   "execution_count": 14,
   "metadata": {},
   "outputs": [
    {
     "name": "stdout",
     "output_type": "stream",
     "text": [
      "invalid number\n"
     ]
    }
   ],
   "source": [
    "from Packages.numerical import phoneNumberValidator\n",
    "phoneNumberValidator(949083788)"
   ]
  },
  {
   "cell_type": "code",
   "execution_count": 34,
   "metadata": {},
   "outputs": [
    {
     "name": "stdout",
     "output_type": "stream",
     "text": [
      "valid number\n",
      "phone number is invalid\n"
     ]
    }
   ],
   "source": [
    "contacts = {\"name1\":[8332002364,'name1@domain.ext'], \"name2\":[9490837881,'name2@domian.ext']}\n",
    "\n",
    "def addcontacts(name,phone,email):\n",
    "    # Verify that the contact doesnot already exist\n",
    "    if name not in contacts:\n",
    "           print(name, \"already exists\")\n",
    "    else:\n",
    "        if not phoneNumberValidator(phone):\n",
    "            print(\"phone number is invalid\")\n",
    "            return\n",
    "        if not emailvalidator(email):\n",
    "            print(\"email is invalid\")\n",
    "            return\n",
    "        newcontact = []\n",
    "        newcontact.append(phone)\n",
    "        newcontact.append(email)\n",
    "        contacts[name] = newcontact\n",
    "        print(name,\"added successfully\")\n",
    "    return\n",
    "addcontacts(\"name1\", \"8332002364\" ,\"name1@gmail.com\")\n",
    "        \n",
    "    "
   ]
  },
  {
   "cell_type": "code",
   "execution_count": 36,
   "metadata": {},
   "outputs": [
    {
     "name": "stdout",
     "output_type": "stream",
     "text": [
      "name1\n",
      "phone: 8332002364\n",
      "email: name1@domain.ext\n"
     ]
    },
    {
     "data": {
      "text/plain": [
       "False"
      ]
     },
     "execution_count": 36,
     "metadata": {},
     "output_type": "execute_result"
    }
   ],
   "source": [
    "def searchcontacts(name):\n",
    "    if name in contacts:\n",
    "        print(name)\n",
    "        print(\"phone:\", contacts[name][0])\n",
    "        print(\"email:\", contacts[name][1])\n",
    "    else:\n",
    "        print(\"%s does not exist\" % name)\n",
    "    return \n",
    "searchcontacts(\"name1\")"
   ]
  },
  {
   "cell_type": "code",
   "execution_count": 38,
   "metadata": {},
   "outputs": [
    {
     "name": "stdout",
     "output_type": "stream",
     "text": [
      "1 contacts added successfully\n"
     ]
    }
   ],
   "source": [
    "def importcontacts(newcontacts):\n",
    "    contacts.update(newcontacts)\n",
    "    print(len(newcontacts.keys()), \"contacts added successfully\")\n",
    "    return\n",
    "newcontacts = {\"name4\":[9490837881, \"name4@gmail.com\"]}\n",
    "importcontacts(newcontacts)"
   ]
  },
  {
   "cell_type": "code",
   "execution_count": 39,
   "metadata": {},
   "outputs": [
    {
     "data": {
      "text/plain": [
       "{'name1': [8332002364, 'name1@domain.ext'],\n",
       " 'name2': [9490837881, 'name2@domian.ext'],\n",
       " 'name4': [9490837881, 'name4@gmail.com']}"
      ]
     },
     "execution_count": 39,
     "metadata": {},
     "output_type": "execute_result"
    }
   ],
   "source": [
    "contacts\n"
   ]
  },
  {
   "cell_type": "code",
   "execution_count": 41,
   "metadata": {},
   "outputs": [
    {
     "name": "stdout",
     "output_type": "stream",
     "text": [
      "name1  :  [8332002364, 'name1@domain.ext']\n",
      "name2  :  [9490837881, 'name2@domian.ext']\n",
      "name4  :  [9490837881, 'name4@gmail.com']\n"
     ]
    }
   ],
   "source": [
    "# Function to list all contacts\n",
    "\n",
    "def listAllcontacts():\n",
    "    for i in contacts:\n",
    "        print(i, \" : \", contacts[i])\n",
    "listAllcontacts()"
   ]
  },
  {
   "cell_type": "code",
   "execution_count": 43,
   "metadata": {},
   "outputs": [
    {
     "name": "stdout",
     "output_type": "stream",
     "text": [
      "name1 \n",
      " phone: 8332002364 \n",
      " email: name1@domain.ext\n",
      "name2 \n",
      " phone: 9490837881 \n",
      " email: name2@domian.ext\n",
      "name4 \n",
      " phone: 9490837881 \n",
      " email: name4@gmail.com\n"
     ]
    }
   ],
   "source": [
    "# Function to list all contacts\n",
    "\n",
    "def listAllcontacts():\n",
    "    for contact, info in contacts.items():\n",
    "        print(contact, \"\\n\", \"phone:\", info[0], \"\\n\",\"email:\",info[1])\n",
    "listAllcontacts()\n"
   ]
  },
  {
   "cell_type": "markdown",
   "metadata": {},
   "source": [
    "## File Handling in Python\n",
    "\n",
    "- File - Document Containing Information residing on the permanent storage\n",
    "- Types - Text, PDF, CSV(SPREADSHEETS) etc\n",
    "\n",
    "- File I/O\n",
    "- Channeling data I/O data to files\n",
    "- Default I/O channels - keyboard/screen\n",
    "\n",
    "- change I/O channel to files for reading and writing\n",
    "\n",
    "- Read a file - Input from file\n",
    "- Write to a file - Output to a file\n",
    "\n",
    "- Read/Write file - Open(filename,mode)"
   ]
  },
  {
   "cell_type": "code",
   "execution_count": 6,
   "metadata": {},
   "outputs": [
    {
     "name": "stdout",
     "output_type": "stream",
     "text": [
      "vishnu\n",
      "jyothi\n",
      "satya\n",
      "manju\n"
     ]
    }
   ],
   "source": [
    "# Function to read a file\n",
    "\n",
    "def readFile(filename):\n",
    "    f = open(filename, 'r')\n",
    "    filedata = f.read()\n",
    "    f.close()\n",
    "    return filedata\n",
    "filename = 'DataFiles/data.txt'\n",
    "filedata = readFile(filename)\n",
    "for line in readFile(filename).split('\\n'):\n",
    "    print(line)\n",
    "    \n"
   ]
  },
  {
   "cell_type": "code",
   "execution_count": 52,
   "metadata": {},
   "outputs": [
    {
     "data": {
      "text/plain": [
       "'vishnu\\njyothi\\nsatya\\nmanju'"
      ]
     },
     "execution_count": 52,
     "metadata": {},
     "output_type": "execute_result"
    }
   ],
   "source": [
    "# Function to read a file\n",
    "\n",
    "def readFile(filename):\n",
    "    f = open(filename, 'r')\n",
    "    filedata = f.read()\n",
    "    f.close()\n",
    "    return filedata\n",
    "filename = 'DataFiles/data.txt'\n",
    "readFile(filename)"
   ]
  },
  {
   "cell_type": "code",
   "execution_count": 14,
   "metadata": {},
   "outputs": [
    {
     "name": "stdout",
     "output_type": "stream",
     "text": [
      "newdata newdata\n"
     ]
    }
   ],
   "source": [
    "def PrintFile(filename):\n",
    "    f = open(filename,'r') \n",
    "    filename = 'DataFiles/data.txt'\n",
    "    for line in f:\n",
    "        print(line,end=' ')\n",
    "    return\n",
    "PrintFile(filename)\n",
    "print(readFile(filename))\n"
   ]
  },
  {
   "cell_type": "code",
   "execution_count": 12,
   "metadata": {},
   "outputs": [],
   "source": [
    "# Function to write data into a file\n",
    "\n",
    "def writeIntoFile(filename, filedata):\n",
    "    with open(filename, 'w') as f:\n",
    "        f.write(filedata)\n",
    "    return\n",
    "filename = 'DataFiles/data.txt'\n",
    "writeIntoFile(filename,\"newdata\")"
   ]
  },
  {
   "cell_type": "code",
   "execution_count": 19,
   "metadata": {},
   "outputs": [],
   "source": [
    "# Function to append data to a file\n",
    "\n",
    "def appendDataToFile(filename, filedata):\n",
    "    with open(filename, 'a') as f:\n",
    "        f.write(filedata)\n",
    "    return\n",
    "filedata = \"vishnu\\njyothi\"\n",
    "appendDataToFile(filename, filedata)"
   ]
  },
  {
   "cell_type": "code",
   "execution_count": 29,
   "metadata": {},
   "outputs": [],
   "source": [
    "def appendDataToFile(filename, filedata):\n",
    "     with open(filename, 'a') as f:\n",
    "        for line in filedata:\n",
    "            f.write('\\n'+line)\n",
    "        return\n",
    "filedata = [\"vishnu\",\"jyothi\"]\n",
    "appendDataToFile(filename, filedata)"
   ]
  }
 ],
 "metadata": {
  "kernelspec": {
   "display_name": "Python 3",
   "language": "python",
   "name": "python3"
  },
  "language_info": {
   "codemirror_mode": {
    "name": "ipython",
    "version": 3
   },
   "file_extension": ".py",
   "mimetype": "text/x-python",
   "name": "python",
   "nbconvert_exporter": "python",
   "pygments_lexer": "ipython3",
   "version": "3.7.3"
  }
 },
 "nbformat": 4,
 "nbformat_minor": 2
}
