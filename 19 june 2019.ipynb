{
 "cells": [
  {
   "cell_type": "markdown",
   "metadata": {},
   "source": [
    "\n",
    "## Practicing Problems on HackerEarth"
   ]
  },
  {
   "cell_type": "markdown",
   "metadata": {},
   "source": [
    "#### Find Product"
   ]
  },
  {
   "cell_type": "code",
   "execution_count": null,
   "metadata": {},
   "outputs": [],
   "source": [
    "m = pow(10, 9)+7\n",
    "n = int(input())\n",
    "l = list(map(int,input().split()))\n",
    "res = 1\n",
    "for i in range(n):\n",
    "     res = (res*l[i])%m\n",
    "print(res)"
   ]
  },
  {
   "cell_type": "markdown",
   "metadata": {},
   "source": [
    "#### Duration"
   ]
  },
  {
   "cell_type": "code",
   "execution_count": null,
   "metadata": {},
   "outputs": [],
   "source": [
    "def minuteDifference(s):\n",
    "    s = s.split()\n",
    "    sh = int(s[0])\n",
    "    sm = int(s[1])\n",
    "    eh = int(s[2])\n",
    "    em = int(s[3])\n",
    "    startminutes = sh * 60 + sm\n",
    "    endminutes = eh * 60 + em\n",
    "    return endminutes - startminutes\n",
    "def OutputTimeFormat(minutes):\n",
    "    # Convert minutes into HH MM\n",
    "    hh = minutes // 60\n",
    "    mm = minutes % 60\n",
    "    print(hh, mm)\n",
    "    return\n",
    "n = int(input())\n",
    "for i in range (0, n):\n",
    "    s = input()\n",
    "    minutes = minuteDifference(s)\n",
    "    OutputTimeFormat(minutes)"
   ]
  },
  {
   "cell_type": "markdown",
   "metadata": {},
   "source": [
    "#### Roy and Profile Picture"
   ]
  },
  {
   "cell_type": "code",
   "execution_count": null,
   "metadata": {},
   "outputs": [],
   "source": [
    "l=int(input())\n",
    "n=int(input())\n",
    "for i in range(n):\n",
    "    a=[int(x) for x in input().split(' ')]\n",
    "    w=a[0]\n",
    "    h=a[1]\n",
    "    if  w<l or h<l:\n",
    "        print(\"UPLOAD ANOTHER\")\n",
    "    elif w>=l and h>=l:\n",
    "        if w==h:\n",
    "            print(\"ACCEPTED\")\n",
    "        else:\n",
    "            print(\"CROP IT\")\n",
    "    else:\n",
    "        print(\"NA\")"
   ]
  },
  {
   "cell_type": "markdown",
   "metadata": {},
   "source": [
    "#### Print Hello"
   ]
  },
  {
   "cell_type": "code",
   "execution_count": null,
   "metadata": {},
   "outputs": [],
   "source": [
    "k = \"Hello Kirti\"\n",
    "print(k)"
   ]
  },
  {
   "cell_type": "markdown",
   "metadata": {},
   "source": [
    "#### Goki and his breakup"
   ]
  },
  {
   "cell_type": "code",
   "execution_count": null,
   "metadata": {},
   "outputs": [],
   "source": [
    "N = int(input())\n",
    "X = int(input())\n",
    "def GokiBreakup(N):\n",
    "    for i in range(N):\n",
    "        Y = int(input())\n",
    "        if Y >= X:\n",
    "          print(\"YES\")\n",
    "        else:\n",
    "           print(\"NO\")\n",
    "GokiBreakup(N)"
   ]
  },
  {
   "cell_type": "markdown",
   "metadata": {},
   "source": [
    "#### Char Sum"
   ]
  },
  {
   "cell_type": "code",
   "execution_count": null,
   "metadata": {},
   "outputs": [],
   "source": [
    "n = input()\n",
    "def charsum(name):\n",
    "    sum = 0\n",
    "    for i in n:\n",
    "        m = ord(i)-96\n",
    "        sum = sum + m\n",
    "    print(sum)\n",
    "charsum(n)"
   ]
  }
 ],
 "metadata": {
  "kernelspec": {
   "display_name": "Python 3",
   "language": "python",
   "name": "python3"
  },
  "language_info": {
   "codemirror_mode": {
    "name": "ipython",
    "version": 3
   },
   "file_extension": ".py",
   "mimetype": "text/x-python",
   "name": "python",
   "nbconvert_exporter": "python",
   "pygments_lexer": "ipython3",
   "version": "3.7.3"
  }
 },
 "nbformat": 4,
 "nbformat_minor": 2
}
