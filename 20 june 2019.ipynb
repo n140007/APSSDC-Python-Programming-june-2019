{
 "cells": [
  {
   "cell_type": "markdown",
   "metadata": {},
   "source": [
    "## Day Objectives\n",
    "- Regular  Expressions\n",
    "   - Constructing Regular Expressions for various use cases\n",
    "   - Regular Expressions Module an related Expressions in Python\n",
    "   - Improving the Contacts application with name and phone number validation\n",
    "- File Handling\n",
    "   - Text Files\n",
    "   - Upgrading the Contacts Application to store contact information in a text file"
   ]
  },
  {
   "cell_type": "markdown",
   "metadata": {},
   "source": [
    "### Regular Expressions\n",
    "\n",
    "- Pattern Matching\n",
    "- Symbolic Notation of a Pattern\n",
    "   - Pattern : Format which repeats\n",
    "   - Pattern(RE) : Represents The set of all strings match that patterns\n",
    "- [0-9] -> Any digit\n",
    "- [a-z] -> Any lowercase alphabet"
   ]
  }
 ],
 "metadata": {
  "kernelspec": {
   "display_name": "Python 3",
   "language": "python",
   "name": "python3"
  },
  "language_info": {
   "codemirror_mode": {
    "name": "ipython",
    "version": 3
   },
   "file_extension": ".py",
   "mimetype": "text/x-python",
   "name": "python",
   "nbconvert_exporter": "python",
   "pygments_lexer": "ipython3",
   "version": "3.7.3"
  }
 },
 "nbformat": 4,
 "nbformat_minor": 2
}
