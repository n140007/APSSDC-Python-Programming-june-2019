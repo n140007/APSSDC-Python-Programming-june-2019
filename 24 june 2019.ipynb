{
 "cells": [
  {
   "cell_type": "code",
   "execution_count": null,
   "metadata": {},
   "outputs": [],
   "source": [
    "# Function to print the frequency count of a file\n",
    "# Data in Line 1\n",
    "# Data in Line 2\n",
    "# Data in Line 3\n",
    "# o/p\n",
    "# Data :3 \n",
    "# in : 3\n",
    "# 1 : 1\n",
    "# 2 : 1\n",
    "# 3 : 1\n",
    "    \n",
    "def FreqDistributionOfWords(filepath):\n",
    "    \n",
    "    # Dictionory to be used\n",
    "        # Keys -> unique words\n",
    "        # Values -> count of unique words\n",
    "    # Two Lists\n",
    "        # All Words list ->\n",
    "        # Unique Words -> \n",
    "    # Set\n",
    "        allwords = wordsFromFile(filepath)\n",
    "        uniquewords = uniqueData(filepath)\n",
    "        for word in uniquewords:\n",
    "                count = allwords.count(word)\n",
    "                print(word,':',count)\n",
    "        return\n",
    "FreqDistributionOfWords(filepath)"
   ]
  },
  {
   "cell_type": "code",
   "execution_count": null,
   "metadata": {},
   "outputs": [],
   "source": [
    "# Binary queries"
   ]
  },
  {
   "cell_type": "code",
   "execution_count": 1,
   "metadata": {},
   "outputs": [
    {
     "name": "stdout",
     "output_type": "stream",
     "text": [
      "5 2\n",
      "1 0 1 1 0\n",
      "1 2\n",
      "0 1 4\n",
      "ODD\n"
     ]
    }
   ],
   "source": [
    "n,q = list(map(int,input().split()))\n",
    "l = list(map(int,input().split()))   # l = [int(x) for x in input().split()]\n",
    "for k in range(q):\n",
    "    value = list(map(int,input().split()))  \n",
    "    if(len(value)==2):\n",
    "        l[value[1]-1] = l[value[1]-1]^1\n",
    "    else:\n",
    "        if(l[value[1]-1]&1):  # if(l[value[2]-1%2==1)\n",
    "            print(\"ODD\")\n",
    "        else:\n",
    "            print(\"EVEN\")\n",
    "# print(l)"
   ]
  },
  {
   "cell_type": "code",
   "execution_count": null,
   "metadata": {},
   "outputs": [],
   "source": [
    "def FreqDistributionOfWords2(filepath):\n",
    "        allwords = wordsFromFile(filepath)\n",
    "        wordFrequency = {}\n",
    "    \n",
    "        for word in allwords:\n",
    "                if word not in wordFrequency.keys():\n",
    "                      wordFrequency[word] = 1\n",
    "                else:\n",
    "                     wordFrequency[word] +=1\n",
    "        return wordFrequency\n",
    "FreqDistributionOfWords2(filepath)"
   ]
  },
  {
   "cell_type": "code",
   "execution_count": null,
   "metadata": {},
   "outputs": [],
   "source": [
    "# Contacts Application\n",
    "        # Add, Search, List, Modify Delete contacts\n",
    "# Find and Replace Application\n",
    "       # Count the total number of occurrences of a word\n",
    "        # If word is existing\n",
    "        # Replace all occurrences of a word with another word\n",
    "        \n",
    "# Marks Analysis Application\n",
    "    # Generate marks file for n students\n",
    "   # INPUT :- Marks text file - Each line in the text file contains marks of one student\n",
    "   # Generates a report with the following information\n",
    "        # Class Average\n",
    "        # % of students passed\n",
    "        # % of students failed\n",
    "        # % of students with distinction\n",
    "        # Highest Mark Frequency\n",
    "        # Lowest Mark Frequency"
   ]
  },
  {
   "cell_type": "code",
   "execution_count": null,
   "metadata": {},
   "outputs": [],
   "source": [
    "# Function to generats marks data for n students\n",
    "\n",
    "from random import randint\n",
    "def generateMarks(n, lb, ub):\n",
    "    with open('DataFiles/marks.txt', 'w') as f:\n",
    "        for i in range(0, n):\n",
    "            r = randint(lb, ub)\n",
    "            f.write(str(r)+ '\\n')\n",
    "    return\n",
    "generateMarks(10, 1, 10)"
   ]
  },
  {
   "cell_type": "code",
   "execution_count": null,
   "metadata": {},
   "outputs": [],
   "source": [
    "from random import randint\n",
    "def classAverage(lb, ub):\n",
    "    sum = 0\n",
    "    count = 0\n",
    "    with open('DataFiles/marks.txt', 'w') as f:\n",
    "        for i in range(lb, ub):\n",
    "            r = randint(lb, ub)\n",
    "            f.write(str(r)+ '\\n')\n",
    "            sum = sum + i\n",
    "            count = count + 1\n",
    "        print(sum/count)\n",
    "    return\n",
    "classAverage(1,10)"
   ]
  }
 ],
 "metadata": {
  "kernelspec": {
   "display_name": "Python 3",
   "language": "python",
   "name": "python3"
  },
  "language_info": {
   "codemirror_mode": {
    "name": "ipython",
    "version": 3
   },
   "file_extension": ".py",
   "mimetype": "text/x-python",
   "name": "python",
   "nbconvert_exporter": "python",
   "pygments_lexer": "ipython3",
   "version": "3.7.3"
  }
 },
 "nbformat": 4,
 "nbformat_minor": 2
}
