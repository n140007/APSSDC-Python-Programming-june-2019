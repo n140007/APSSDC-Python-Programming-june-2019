{
 "cells": [
  {
   "cell_type": "markdown",
   "metadata": {},
   "source": [
    "## Level 2 -Test Problems"
   ]
  },
  {
   "cell_type": "markdown",
   "metadata": {},
   "source": [
    "### Problem 2 : count the number of digits and number of English characters"
   ]
  },
  {
   "cell_type": "code",
   "execution_count": 17,
   "metadata": {},
   "outputs": [
    {
     "name": "stdout",
     "output_type": "stream",
     "text": [
      "enter a string is: nvieojv6899\n",
      "4 7\n"
     ]
    }
   ],
   "source": [
    "\n",
    "\n",
    "s = input(\"enter a string is: \")\n",
    "s = list(s)\n",
    "count1 = 0\n",
    "count2 = 0\n",
    "for i in s:\n",
    "    if(i.isdigit()):\n",
    "        count1 = count1 + 1\n",
    "    if(i.isalpha()):\n",
    "        count2 = count2 +1\n",
    "print(count1, end=\" \")\n",
    "print(count2)\n"
   ]
  },
  {
   "cell_type": "code",
   "execution_count": null,
   "metadata": {},
   "outputs": [],
   "source": [
    "def perfect(n):\n",
    "    s = 0\n",
    "    for i in range(1, n):\n",
    "        if n%i==0:\n",
    "            s =s+i\n",
    "    return s == n\n",
    "l = [12, 23, 24, 6, 28]\n",
    "res = []\n",
    "for i in l:\n",
    "    res.append(perfect(i))\n",
    "res\n"
   ]
  },
  {
   "cell_type": "markdown",
   "metadata": {},
   "source": [
    "### Problem 3 : Highest Remainder <br>\n",
    "Program to find a natural that is smaller than N such that N gives highest remainder when divided by that number. <br>\n",
    "If there is more than one such number, print the smallest one. <br>\n",
    "\n",
    "N <br>\n",
    "highest = 0 <br>\n",
    "x < N and n % x == highest <br>\n",
    "\n",
    "\n",
    "10\n",
    "\n",
    "\n",
    "9 1 <br>\n",
    "8 2 <br>\n",
    "7 3 <br>\n",
    "6 4 <br>\n",
    "5 0 <Br>\n",
    "4 2 <br>\n",
    "3 1 <br>\n",
    "2 0 <br>\n",
    "\n",
    "\n",
    "30\n",
    "\n",
    "1   <br>\n",
    "2   <br>\n",
    "3   <br>\n",
    "4    <br>\n",
    "5    <br>\n",
    "6     <Br>\n",
    ".\n",
    ".\n",
    ".\n",
    "16 14  <br>\n",
    "15 0   <br>\n",
    "\n",
    "\n",
    "9\n",
    "\n",
    "\n",
    "\n",
    "8 1  <br>\n",
    "7 2  <br>\n",
    "6 3  <br>\n",
    "5 4   <br>\n",
    "4 1   <br>\n",
    "3 0   <br>\n",
    "2 4   <br>\n"
   ]
  },
  {
   "cell_type": "code",
   "execution_count": 10,
   "metadata": {},
   "outputs": [
    {
     "name": "stdout",
     "output_type": "stream",
     "text": [
      "3\n"
     ]
    }
   ],
   "source": [
    "\n",
    "def highestRemainder(n):\n",
    "    hr = 0\n",
    "    v = n\n",
    "    for i in range(n-1, n//2, -1):\n",
    "            r = n % i\n",
    "            if r > hr:\n",
    "                hr = r\n",
    "                v = i\n",
    "    print(v)\n",
    "    return\n",
    "highestRemainder(5)\n",
    "    "
   ]
  },
  {
   "cell_type": "markdown",
   "metadata": {},
   "source": [
    "### Problem : Play waith numbers\n",
    "\n",
    "line 1 : array size(n), no of queries(q) <br>\n",
    "line 2 : n arrray elements <br>\n",
    "next q lines : query - sub array of the original array <br>\n"
   ]
  },
  {
   "cell_type": "code",
   "execution_count": 6,
   "metadata": {},
   "outputs": [
    {
     "name": "stdout",
     "output_type": "stream",
     "text": [
      "5 3\n",
      "1 2 3 4 5\n",
      "1 3\n"
     ]
    },
    {
     "ename": "IndexError",
     "evalue": "list assignment index out of range",
     "output_type": "error",
     "traceback": [
      "\u001b[1;31m---------------------------------------------------------------------------\u001b[0m",
      "\u001b[1;31mIndexError\u001b[0m                                Traceback (most recent call last)",
      "\u001b[1;32m<ipython-input-6-f3f8405bbb13>\u001b[0m in \u001b[0;36m<module>\u001b[1;34m\u001b[0m\n\u001b[0;32m     15\u001b[0m \u001b[1;32mfor\u001b[0m \u001b[0mk\u001b[0m \u001b[1;32min\u001b[0m \u001b[0mrange\u001b[0m\u001b[1;33m(\u001b[0m\u001b[1;36m0\u001b[0m\u001b[1;33m,\u001b[0m \u001b[0mn\u001b[0m\u001b[1;33m[\u001b[0m\u001b[1;36m1\u001b[0m\u001b[1;33m]\u001b[0m\u001b[1;33m)\u001b[0m\u001b[1;33m:\u001b[0m\u001b[1;33m\u001b[0m\u001b[1;33m\u001b[0m\u001b[0m\n\u001b[0;32m     16\u001b[0m     \u001b[0minq\u001b[0m \u001b[1;33m=\u001b[0m \u001b[0minput\u001b[0m\u001b[1;33m(\u001b[0m\u001b[1;33m)\u001b[0m\u001b[1;33m.\u001b[0m\u001b[0msplit\u001b[0m\u001b[1;33m(\u001b[0m\u001b[1;33m)\u001b[0m\u001b[1;33m\u001b[0m\u001b[1;33m\u001b[0m\u001b[0m\n\u001b[1;32m---> 17\u001b[1;33m     \u001b[0mq\u001b[0m\u001b[1;33m[\u001b[0m\u001b[1;36m0\u001b[0m\u001b[1;33m]\u001b[0m \u001b[1;33m=\u001b[0m \u001b[0mint\u001b[0m\u001b[1;33m(\u001b[0m\u001b[0minq\u001b[0m\u001b[1;33m[\u001b[0m\u001b[1;36m0\u001b[0m\u001b[1;33m]\u001b[0m\u001b[1;33m)\u001b[0m\u001b[1;33m\u001b[0m\u001b[1;33m\u001b[0m\u001b[0m\n\u001b[0m\u001b[0;32m     18\u001b[0m     \u001b[0mi\u001b[0m \u001b[1;33m=\u001b[0m \u001b[0mint\u001b[0m\u001b[1;33m(\u001b[0m\u001b[0minq\u001b[0m\u001b[1;33m[\u001b[0m\u001b[1;36m0\u001b[0m\u001b[1;33m]\u001b[0m\u001b[1;33m)\u001b[0m\u001b[1;33m\u001b[0m\u001b[1;33m\u001b[0m\u001b[0m\n\u001b[0;32m     19\u001b[0m     \u001b[0mj\u001b[0m \u001b[1;33m=\u001b[0m \u001b[0mint\u001b[0m\u001b[1;33m(\u001b[0m\u001b[0minq\u001b[0m\u001b[1;33m[\u001b[0m\u001b[1;36m1\u001b[0m\u001b[1;33m]\u001b[0m\u001b[1;33m)\u001b[0m\u001b[1;33m\u001b[0m\u001b[1;33m\u001b[0m\u001b[0m\n",
      "\u001b[1;31mIndexError\u001b[0m: list assignment index out of range"
     ]
    }
   ],
   "source": [
    "n = input().split()\n",
    "n[0], n[1] = int(n[0]), int(n[1])\n",
    "a = input().split()\n",
    "sum = [] #Initialize cumulative sum array \n",
    "\n",
    "# Cumulative Sum\n",
    "for i in range(0, n[0]):\n",
    "    if i == 0:\n",
    "        sum.append(int(a[i]))\n",
    "    else:\n",
    "        sum.append(int(sum[i-1]) + int(a[i]))\n",
    "del a\n",
    "#  Read each query and calcualte the average\n",
    "q = []\n",
    "for k in range(0, n[1]):\n",
    "    inq = input().split()\n",
    "    q[0] = int(inq[0])\n",
    "    i = int(inq[0])\n",
    "    j = int(inq[1])\n",
    "    if i > 1:\n",
    "        print(sum[j-1] - sum[i-2]) // (j-i+1)\n",
    "    else:\n",
    "        print(sum[j-1]) // (j-i+1)\n",
    "        \n",
    "    \n",
    "                \n"
   ]
  },
  {
   "cell_type": "code",
   "execution_count": null,
   "metadata": {},
   "outputs": [],
   "source": [
    "1 2 3 4 5\n",
    "\n",
    "2 4\n",
    "\n"
   ]
  },
  {
   "cell_type": "markdown",
   "metadata": {},
   "source": [
    "# Problem 4\n",
    "A special number is defined as a number which has at least P distinct prime factors. <br>\n",
    "Write a programme to determine whether a number N is a special number\n",
    "\n",
    "**INPUt FORMAT** <br>\n",
    " - First line : P\n",
    " - Second lline : T (number of test cases)\n",
    " - Next T lines : N\n",
    " \n",
    "**OUTPUT FORMAT** <br>\n",
    " for each test case, print YES or NO depending on the result"
   ]
  },
  {
   "cell_type": "code",
   "execution_count": null,
   "metadata": {},
   "outputs": [
    {
     "name": "stdout",
     "output_type": "stream",
     "text": [
      "2\n",
      "4\n",
      "7\n",
      "NO\n",
      "5\n",
      "NO\n",
      "9\n",
      "NO\n",
      "4\n"
     ]
    }
   ],
   "source": [
    "# Function to determine if a number is a special number or not (# it depends on prime factors and prime number)\n",
    "\n",
    "# Function to checl if number is Prime\n",
    "\n",
    "# Function to determine number of Prime factors for a given number  (# it depends on prime number)\n",
    "\n",
    "\n",
    "def isSpecialNumber(n, p):\n",
    "    if numberofPrimefactors(n) >= p:\n",
    "        return True\n",
    "    else:\n",
    "        return False\n",
    "def isPrime(n):\n",
    "    flag = True\n",
    "    if n==2 :\n",
    "        return True\n",
    "    for i in range(2, n//2+1):\n",
    "        if n%i == 0:\n",
    "            flag = False\n",
    "            return False\n",
    "    if flag == 1:\n",
    "        return True\n",
    "def numberofPrimefactors(n):\n",
    "    if isPrime(n):\n",
    "        return 1\n",
    "    count = 0\n",
    "    for i in range(2, n//2+1): # if n is not a prime number\n",
    "        if isPrime(i) and n%i == 0:\n",
    "            count += 1\n",
    "    return count\n",
    "def solution2():\n",
    "    p = int(input())\n",
    "    t = int(input())\n",
    "    for i in range(0, t):\n",
    "        n = int(input())\n",
    "        if isSpecialNumber(n, p):\n",
    "            print(\"YES\")\n",
    "        else:\n",
    "            print(\"NO\")\n",
    "solution2()\n",
    "\n",
    "\n",
    "    \n",
    "            \n",
    "    \n",
    "        \n",
    "\n"
   ]
  },
  {
   "cell_type": "markdown",
   "metadata": {},
   "source": [
    "## Tuples\n",
    "\n",
    "- t1 = ( )\n",
    "- li = [ ]\n",
    "\n",
    "Difference between Lists and Tuples  <br>\n",
    "\n",
    "Lists are mutable - can be changed / modified  <br>\n",
    "- Used to Access, Modify, Add, Delete data\n",
    "\n",
    "Tuples are immutable - can't be changed once intialised  <br>\n",
    "- Used to Access data only"
   ]
  },
  {
   "cell_type": "code",
   "execution_count": 21,
   "metadata": {},
   "outputs": [
    {
     "data": {
      "text/plain": [
       "(0, 6, 8, 2, 1)"
      ]
     },
     "execution_count": 21,
     "metadata": {},
     "output_type": "execute_result"
    }
   ],
   "source": [
    "t1 = (1, 2, 8, 6, 0)\n",
    "t1\n",
    "\n",
    "t1[4] # here for indexing we use square brackets\n",
    "\n",
    "# String Slicing also possible here\n",
    "\n",
    "t1[3] # Accessing the fourth element\n",
    "\n",
    "t1[len(t1)//2:] # Accessing all elemnts from middle to last \n",
    "\n",
    "t1[::-1]  # To revese the tuple\n",
    "\n",
    "t1[-1::-1]  \n"
   ]
  },
  {
   "cell_type": "code",
   "execution_count": 22,
   "metadata": {},
   "outputs": [
    {
     "data": {
      "text/plain": [
       "tuple"
      ]
     },
     "execution_count": 22,
     "metadata": {},
     "output_type": "execute_result"
    }
   ],
   "source": [
    "type(t1)"
   ]
  },
  {
   "cell_type": "markdown",
   "metadata": {},
   "source": [
    "## Dictionaries\n",
    "\n",
    "- It works on the concept of Set <br>\n",
    "\n",
    "- It has Keys, Values            <br>\n",
    "- Key is the unique identifier for a value <br>\n",
    "\n",
    "- Value is data that can be accessed with a Key <br>\n",
    "\n",
    "dl = { } <br>\n",
    "\n",
    "\n",
    "- It has Unique Data\n",
    "\n",
    "- Dictionaries like lists. They are mutable <br>\n",
    "\n"
   ]
  },
  {
   "cell_type": "code",
   "execution_count": 46,
   "metadata": {},
   "outputs": [
    {
     "data": {
      "text/plain": [
       "True"
      ]
     },
     "execution_count": 46,
     "metadata": {},
     "output_type": "execute_result"
    }
   ],
   "source": [
    "dl = {\"k1\": \"value1\", \"k2\":\"value2\"}\n",
    "\n",
    "dl[\"k1\"]  # Accessing the value with key \"k1\"\n",
    "dl[\"k2\"]  # Accessing the value with key \"k2\"\n",
    "dl.keys()  # # returns list of all keys\n",
    "\n",
    "dl.values() # returns list of all values\n",
    "dl.items()   # returns list of tuples of keys and values\n",
    "\n",
    "dl[\"k3\"] = \"value3\"  # Adding an element to the dictionary\n",
    "dl [\"k3\"] = \"value4\"  # Updating an element\n",
    "dl.pop(\"k2\")    # Removing elemet\n",
    "\n",
    "\"k3\" in dl  # Seacrhing keys in dictionary\n"
   ]
  },
  {
   "cell_type": "markdown",
   "metadata": {},
   "source": [
    "###  Contacts Application\n",
    "\n",
    "- Add Contact\n",
    "- Search for Contact\n",
    "- List all Contacts\n",
    "    - name1 : phone1\n",
    "    - name2 : phone2\n",
    "- Modify Contact\n",
    "- Remove Contact\n",
    "- Import contacts\n",
    "\n",
    "\n",
    "\n"
   ]
  },
  {
   "cell_type": "code",
   "execution_count": 5,
   "metadata": {},
   "outputs": [
    {
     "name": "stdout",
     "output_type": "stream",
     "text": [
      "contact name1 added\n"
     ]
    },
    {
     "data": {
      "text/plain": [
       "{'name1': '9490837881'}"
      ]
     },
     "execution_count": 5,
     "metadata": {},
     "output_type": "execute_result"
    }
   ],
   "source": [
    "contacts = {}\n",
    "\n",
    "def addcontacts(name,phone):\n",
    "    # Verify that the contact doesnot already exist\n",
    "    if name not in contact:\n",
    "        contacts[name] = phone\n",
    "        print(\"contact %s added\" % name)\n",
    "    else:\n",
    "        print(\"contact %s already exists\" % name)\n",
    "addcontacts(\"name1\", \"9490837881\")\n",
    "        \n",
    "contacts       "
   ]
  },
  {
   "cell_type": "code",
   "execution_count": 8,
   "metadata": {},
   "outputs": [
    {
     "data": {
      "text/plain": [
       "True"
      ]
     },
     "execution_count": 8,
     "metadata": {},
     "output_type": "execute_result"
    }
   ],
   "source": [
    "def searchcontacts(name):\n",
    "    if name in contacts:\n",
    "        return True\n",
    "        print(name, \":\", contacts[name])\n",
    "    else:\n",
    "        print(\"%s does not exist\" % name)\n",
    "    return False\n",
    "searchcontacts(\"name1\")"
   ]
  },
  {
   "cell_type": "code",
   "execution_count": 7,
   "metadata": {},
   "outputs": [
    {
     "name": "stdout",
     "output_type": "stream",
     "text": [
      "contact is modified 8332002364\n"
     ]
    }
   ],
   "source": [
    "def searchcontacts(name):\n",
    "    if name in contacts:\n",
    "        return True\n",
    "    else:\n",
    "        return False\n",
    "def modifycontact(name, phonenumber):\n",
    "    if searchcontacts(name):\n",
    "        if True:\n",
    "            contacts[name]=phonenumber\n",
    "            print(\"contact is modified\" , phonenumber)\n",
    "        else:\n",
    "            addcontact(name,phonenumber)\n",
    "            print(name,phonenumber)\n",
    "modifycontact(\"name1\", \"8332002364\")"
   ]
  },
  {
   "cell_type": "code",
   "execution_count": 9,
   "metadata": {},
   "outputs": [
    {
     "name": "stdout",
     "output_type": "stream",
     "text": [
      "3 added successfully\n"
     ]
    }
   ],
   "source": [
    "# New contacts is given as a dictionary\n",
    "# Merge new contacts with existing contacts\n",
    "def importcontacts(newcontacts):\n",
    "    contacts.update(newcontacts)\n",
    "    print(len(newcontacts.keys()), \"added successfully\")\n",
    "    return\n",
    "newcontacts = {\"name2\": 9490837881, \"name3\": 8332002364,\"name4\":789065438}\n",
    "importcontacts(newcontacts)"
   ]
  },
  {
   "cell_type": "code",
   "execution_count": 10,
   "metadata": {},
   "outputs": [
    {
     "name": "stdout",
     "output_type": "stream",
     "text": [
      "contact is removed\n"
     ]
    }
   ],
   "source": [
    "def removecontact(name1,phonenumber):\n",
    "    if name1 in contacts:\n",
    "        contacts.pop(name1)\n",
    "        print (\"contact is removed\")\n",
    "    else:\n",
    "        addcontacts(name1,phonenumber)\n",
    "        print (\"contact added\")\n",
    "removecontact(\"name1\",\"9490837881\")"
   ]
  },
  {
   "cell_type": "code",
   "execution_count": 9,
   "metadata": {},
   "outputs": [
    {
     "name": "stdout",
     "output_type": "stream",
     "text": [
      "contact is modified 964534334\n"
     ]
    }
   ],
   "source": [
    "def modifycontacts(name1, phonenumber):\n",
    "    if searchcontacts(name1):\n",
    "        if True:\n",
    "            contacts[name1]=phonenumber\n",
    "            print(\"contact is modified\" , phonenumber)\n",
    "        else:\n",
    "            addcontacts(name1,phonenumber)\n",
    "            print(name1,phonenumber)\n",
    "modifycontacts(\"name1\", \"964534334\")"
   ]
  },
  {
   "cell_type": "code",
   "execution_count": 101,
   "metadata": {},
   "outputs": [
    {
     "data": {
      "text/plain": [
       "{'name1': '8332002364', 'manju': '9490837881'}"
      ]
     },
     "execution_count": 101,
     "metadata": {},
     "output_type": "execute_result"
    }
   ],
   "source": [
    "contacts"
   ]
  },
  {
   "cell_type": "code",
   "execution_count": 103,
   "metadata": {},
   "outputs": [
    {
     "data": {
      "text/plain": [
       "{'name1': '8332002364'}"
      ]
     },
     "execution_count": 103,
     "metadata": {},
     "output_type": "execute_result"
    }
   ],
   "source": [
    "contacts\n"
   ]
  },
  {
   "cell_type": "code",
   "execution_count": 105,
   "metadata": {},
   "outputs": [
    {
     "data": {
      "text/plain": [
       "{'name1': '964534334'}"
      ]
     },
     "execution_count": 105,
     "metadata": {},
     "output_type": "execute_result"
    }
   ],
   "source": [
    "contacts"
   ]
  },
  {
   "cell_type": "code",
   "execution_count": 107,
   "metadata": {},
   "outputs": [
    {
     "data": {
      "text/plain": [
       "{'name1': '964534334'}"
      ]
     },
     "execution_count": 107,
     "metadata": {},
     "output_type": "execute_result"
    }
   ],
   "source": [
    "contacts"
   ]
  },
  {
   "cell_type": "code",
   "execution_count": 109,
   "metadata": {},
   "outputs": [
    {
     "data": {
      "text/plain": [
       "{'name1': '9490837881'}"
      ]
     },
     "execution_count": 109,
     "metadata": {},
     "output_type": "execute_result"
    }
   ],
   "source": [
    "contacts"
   ]
  },
  {
   "cell_type": "code",
   "execution_count": 111,
   "metadata": {},
   "outputs": [
    {
     "data": {
      "text/plain": [
       "{'name1': '9490837881'}"
      ]
     },
     "execution_count": 111,
     "metadata": {},
     "output_type": "execute_result"
    }
   ],
   "source": [
    "contacts"
   ]
  },
  {
   "cell_type": "code",
   "execution_count": 113,
   "metadata": {},
   "outputs": [
    {
     "data": {
      "text/plain": [
       "{'name1': '9490837881'}"
      ]
     },
     "execution_count": 113,
     "metadata": {},
     "output_type": "execute_result"
    }
   ],
   "source": [
    "contacts"
   ]
  },
  {
   "cell_type": "code",
   "execution_count": 18,
   "metadata": {},
   "outputs": [
    {
     "data": {
      "text/plain": [
       "{'name1': '9490837881',\n",
       " 'name2': 9490837881,\n",
       " 'name3': 8332002364,\n",
       " 'name4': 789065438}"
      ]
     },
     "execution_count": 18,
     "metadata": {},
     "output_type": "execute_result"
    }
   ],
   "source": [
    "contacts"
   ]
  },
  {
   "cell_type": "code",
   "execution_count": 14,
   "metadata": {},
   "outputs": [
    {
     "data": {
      "text/plain": [
       "{'name2': 9490837881, 'name3': 8332002364, 'name4': 789065438}"
      ]
     },
     "execution_count": 14,
     "metadata": {},
     "output_type": "execute_result"
    }
   ],
   "source": [
    "contacts"
   ]
  },
  {
   "cell_type": "code",
   "execution_count": 12,
   "metadata": {},
   "outputs": [
    {
     "name": "stdout",
     "output_type": "stream",
     "text": [
      "name1  :  964534334\n"
     ]
    }
   ],
   "source": [
    "def listcontact():\n",
    "    for i in contacts:\n",
    "        print(i, \" : \", contacts[i])\n",
    "listcontact()"
   ]
  },
  {
   "cell_type": "markdown",
   "metadata": {},
   "source": [
    "## Packages and Modules\n",
    "\n",
    "**Package** -> Collection of Modules(Python File.py) and subpacakages\n",
    "\n",
    "**Modules** -> A single python file containing functions\n",
    "\n",
    "Package -> Subpackages -> Modules -> Functions\n"
   ]
  },
  {
   "cell_type": "code",
   "execution_count": 8,
   "metadata": {},
   "outputs": [
    {
     "data": {
      "text/plain": [
       "467"
      ]
     },
     "execution_count": 8,
     "metadata": {},
     "output_type": "execute_result"
    }
   ],
   "source": [
    "import math\n",
    "math.ceil(3.14)\n",
    "\n",
    "math.pi\n",
    "\n",
    "import math\n",
    "math.floor(678.78)\n",
    "\n",
    "\n",
    "from math import floor\n",
    "floor(764953.8475)\n",
    "math.pi\n",
    "\n",
    "\n",
    "from math import floor as fl\n",
    "fl(467.90)"
   ]
  },
  {
   "cell_type": "code",
   "execution_count": 11,
   "metadata": {},
   "outputs": [
    {
     "name": "stdout",
     "output_type": "stream",
     "text": [
      "76 82 94 40 100 12 3 43 71 9 "
     ]
    }
   ],
   "source": [
    "# Function to generate N random numbers\n",
    "\n",
    "import random\n",
    "def generateNRandomNumbers(n, lb, ub):\n",
    "     for i in range(0, n):\n",
    "            print(random.randint(lb,ub), end=\" \")\n",
    "generateNRandomNumbers(10, 0, 100)\n",
    "        "
   ]
  },
  {
   "cell_type": "code",
   "execution_count": 4,
   "metadata": {},
   "outputs": [
    {
     "name": "stdout",
     "output_type": "stream",
     "text": [
      "1 2 3 4 5 6 7 8 9 10 "
     ]
    },
    {
     "data": {
      "text/plain": [
       "24"
      ]
     },
     "execution_count": 4,
     "metadata": {},
     "output_type": "execute_result"
    }
   ],
   "source": [
    "from Packages.numerical import factorial\n",
    "factorial(4)"
   ]
  },
  {
   "cell_type": "code",
   "execution_count": 8,
   "metadata": {},
   "outputs": [
    {
     "data": {
      "text/plain": [
       "105"
      ]
     },
     "execution_count": 8,
     "metadata": {},
     "output_type": "execute_result"
    }
   ],
   "source": [
    "ord('i')"
   ]
  },
  {
   "cell_type": "code",
   "execution_count": 2,
   "metadata": {},
   "outputs": [
    {
     "name": "stdout",
     "output_type": "stream",
     "text": [
      "13\n",
      "aahkcreeattrha\n",
      "1\n"
     ]
    }
   ],
   "source": [
    "a=int(input())\n",
    "b=input()\n",
    "s=[]\n",
    "k=[]\n",
    "s.append(b.count(\"h\"))\n",
    "s.append(b.count(\"a\"))\n",
    "s.append(b.count(\"e\"))\n",
    "s.append(b.count(\"r\"))\n",
    "k.append(b.count(\"c\"))\n",
    "k.append(b.count(\"t\"))\n",
    "k.append(b.count(\"k\"))\n",
    "print(min(s)//2)"
   ]
  },
  {
   "cell_type": "code",
   "execution_count": null,
   "metadata": {},
   "outputs": [],
   "source": [
    "n = int(input())\n",
    "for _ in range(n):\n",
    "    l = input()\n",
    "    s = input()\n",
    "    r =''\n",
    "    prime = [67, 71, 73, 79, 83, 89, 97, 101, 103, 107, 109, 113]\n",
    "    for char in s:\n",
    "        a = ord(char)\n",
    "        if a in prime:\n",
    "            r  = r +char\n",
    "        elif( a<67):\n",
    "            r = r + chr(67)\n",
    "        elif(a>113):\n",
    "            r = r + chr(113)\n",
    "        else:\n",
    "            i=0\n",
    "            while(prime[i]<a):\n",
    "                i = i+1\n",
    "            else:\n",
    "                dh = prime[i]-a\n",
    "                dl = a - prime[i-1]\n",
    "                if(dl<=dh):\n",
    "                    r = r + chr(prime[i-1])\n",
    "                else:\n",
    "                    r = r + chr(prime[i])\n",
    "                    \n",
    "    print(r)\n",
    " \n",
    "    "
   ]
  },
  {
   "cell_type": "code",
   "execution_count": null,
   "metadata": {},
   "outputs": [],
   "source": [
    "l=int(input())\n",
    "n=int(input())\n",
    "for i in range(n):\n",
    "    a=[int(x) for x in input().split(' ')]\n",
    "    w=a[0]\n",
    "    h=a[1]\n",
    "    if  w<l or h<l:\n",
    "        print(\"UPLOAD ANOTHER\")\n",
    "    elif w>=l and h>=l:\n",
    "        if w==h:\n",
    "            print(\"ACCEPTED\")\n",
    "        else:\n",
    "            print(\"CROP IT\")\n",
    "    else:\n",
    "        print(\"NA\")"
   ]
  }
 ],
 "metadata": {
  "kernelspec": {
   "display_name": "Python 3",
   "language": "python",
   "name": "python3"
  },
  "language_info": {
   "codemirror_mode": {
    "name": "ipython",
    "version": 3
   },
   "file_extension": ".py",
   "mimetype": "text/x-python",
   "name": "python",
   "nbconvert_exporter": "python",
   "pygments_lexer": "ipython3",
   "version": "3.7.3"
  }
 },
 "nbformat": 4,
 "nbformat_minor": 2
}
