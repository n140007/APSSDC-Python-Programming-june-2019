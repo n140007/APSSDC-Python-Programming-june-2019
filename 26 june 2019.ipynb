{
 "cells": [
  {
   "cell_type": "code",
   "execution_count": null,
   "metadata": {},
   "outputs": [],
   "source": [
    "# 2. Function to find Kth Largest number in a list\n",
    "# Largest number in a list\n",
    "# Second Largest number in a list\n",
    "# kth largest number in a list\n",
    "# Element with highest frequency\n",
    "# Second highest frequency\n",
    "# kth highest frequency\n",
    "    \n",
    "    \n",
    "# {a:4, g:9, i:6, p:213}\n",
    "# [4,6,6,9, 213]\n",
    "# [213, 10, 9, 6, 6, 4]\n",
    "# k = 3\n",
    "# li = []\n",
    "# for item in d.items():\n",
    "# if item[1] == 6:\n",
    "# li.append(item[0])\n",
    "# li = [i, c]"
   ]
  },
  {
   "cell_type": "code",
   "execution_count": 60,
   "metadata": {},
   "outputs": [
    {
     "data": {
      "text/plain": [
       "45"
      ]
     },
     "execution_count": 60,
     "metadata": {},
     "output_type": "execute_result"
    }
   ],
   "source": [
    "# Function to find the second largest number\n",
    "\n",
    "def secondLargest(li):\n",
    "    # Convert the list into a unique list\n",
    "    # o(n)\n",
    "    unique = []\n",
    "    for n in li:\n",
    "        if n not in unique:\n",
    "            unique.append(n)\n",
    "    unique = sorted(unique, reverse = True)\n",
    "    if len(unique) > 1:\n",
    "        return unique[1]\n",
    "    return -1\n",
    "secondLargest([10, 12, 15, 23, 45, 67,17])"
   ]
  },
  {
   "cell_type": "code",
   "execution_count": 53,
   "metadata": {},
   "outputs": [
    {
     "data": {
      "text/plain": [
       "4"
      ]
     },
     "execution_count": 53,
     "metadata": {},
     "output_type": "execute_result"
    }
   ],
   "source": [
    "def fifthLeast(li):\n",
    "    unique = []\n",
    "    for n in li:\n",
    "        if n not in unique:\n",
    "            unique.append(n)\n",
    "    unique = sorted(unique, reverse = False)\n",
    "    if len(unique) > 1:\n",
    "        return unique[4]\n",
    "    return -1\n",
    "fifthLeast([0,1,2,3,4])\n"
   ]
  },
  {
   "cell_type": "code",
   "execution_count": 112,
   "metadata": {},
   "outputs": [
    {
     "data": {
      "text/plain": [
       "5"
      ]
     },
     "execution_count": 112,
     "metadata": {},
     "output_type": "execute_result"
    }
   ],
   "source": [
    "def kthLargest(li, k):\n",
    "    unique = []\n",
    "    for n in li:\n",
    "        if n not in unique:\n",
    "            unique.append(n)\n",
    "    unique = sorted(unique, reverse = True)\n",
    "    if len(unique) > k:\n",
    "        return unique[k]\n",
    "    return -1\n",
    "kthLargest([9,8,7,6,5,2,3,4,9,6,7,7,7,6,7,6], 4)"
   ]
  },
  {
   "cell_type": "code",
   "execution_count": 68,
   "metadata": {},
   "outputs": [
    {
     "data": {
      "text/plain": [
       "-1"
      ]
     },
     "execution_count": 68,
     "metadata": {},
     "output_type": "execute_result"
    }
   ],
   "source": [
    "def kthSmallest(li, k):\n",
    "    # Extract Unique elements in the list\n",
    "    unique = []\n",
    "    for n in li:\n",
    "        if n not in unique:\n",
    "            unique.append(n)\n",
    "    # sort the unique list in descending order\n",
    "    unique = sorted(unique, reverse = False)\n",
    "    # Check if length of unique is greater than equal to K\n",
    "    if len(unique) >= k:\n",
    "        return unique[k-1]\n",
    "    return -1\n",
    "kthSmallest([], 1)"
   ]
  },
  {
   "cell_type": "code",
   "execution_count": 84,
   "metadata": {},
   "outputs": [
    {
     "data": {
      "text/plain": [
       "1"
      ]
     },
     "execution_count": 84,
     "metadata": {},
     "output_type": "execute_result"
    }
   ],
   "source": [
    "# Function to identify the element with highest frequency in a list\n",
    "# If many elements have the highest frequency, return smalleast element\n",
    "# HighestFrequency ([1,2,3,9,8,7,3,4,2,1]) --> here the smallest element is 1\n",
    "\n",
    "\n",
    "def highestFrequency(li):\n",
    "    # Extract unique elements with the frequencies\n",
    "    unique = {}\n",
    "    for i in li:\n",
    "        if i not in unique:\n",
    "            unique[i] = 1\n",
    "        else:\n",
    "            unique[i] += 1\n",
    "    # unique = {1:2, 2:2, 3:2, 4:1, 7:1, 8:1, 9:1}\n",
    "    # Getting all the frequencies into a list\n",
    "    freq = unique.values()\n",
    "    maxfreq = max(freq)\n",
    "    maxfreqE = []\n",
    "    # Idntify the smallest number with maximum frequency\n",
    "    for item in unique.items():\n",
    "        if item[1] == maxfreq:\n",
    "            maxfreqE.append(item[0])\n",
    "    # Select the minimum from the keys with maximum frequency\n",
    "    return min(maxfreqE)\n",
    "highestFrequency([1,2,3,9,8,7,3,4,2,1])\n",
    "    \n",
    "    \n",
    "    \n",
    "    \n",
    "    \n",
    "    \n",
    "    \n",
    "    \n",
    "            "
   ]
  },
  {
   "cell_type": "code",
   "execution_count": 85,
   "metadata": {},
   "outputs": [
    {
     "data": {
      "text/plain": [
       "3"
      ]
     },
     "execution_count": 85,
     "metadata": {},
     "output_type": "execute_result"
    }
   ],
   "source": [
    "def highestFrequency(li):\n",
    "    # Extract unique elements with the frequencies\n",
    "    unique = {}\n",
    "    for i in li:\n",
    "        if i not in unique:\n",
    "            unique[i] = 1\n",
    "        else:\n",
    "            unique[i] += 1\n",
    "    # Getting all the frequencies into a list\n",
    "    freq = unique.values()\n",
    "    maxfreq = max(freq)\n",
    "    maxfreqE = []\n",
    "    # Idntify the smallest number with maximum frequency\n",
    "    for item in unique.items():\n",
    "        if item[1] == maxfreq:\n",
    "            maxfreqE.append(item[0])\n",
    "    # Select the minimum from the keys with maximum frequency\n",
    "    return max(maxfreqE)\n",
    "highestFrequency([1,2,3,9,8,7,3,4,2,1])"
   ]
  },
  {
   "cell_type": "code",
   "execution_count": 98,
   "metadata": {},
   "outputs": [
    {
     "data": {
      "text/plain": [
       "2"
      ]
     },
     "execution_count": 98,
     "metadata": {},
     "output_type": "execute_result"
    }
   ],
   "source": [
    "def highestFrequency(li):\n",
    "    # Extract unique elements with the frequencies\n",
    "    unique = {}\n",
    "    for i in li:\n",
    "        if i not in unique:\n",
    "            unique[i] = 1\n",
    "        else:\n",
    "            unique[i] += 1\n",
    "    # Getting all the frequencies into a list\n",
    "    # unique = {1:2, 2:2, 3:2, 4:1, 7:1, 8:1, 9:1}\n",
    "    freq = unique.values()\n",
    "    maxfreq = max(freq)\n",
    "    # Extract all keys with maxfreq in a lsit\n",
    "    maxfreqE = []\n",
    "    # Idntify the smallest number with maximum frequency\n",
    "    for item in unique.items():\n",
    "     # item --> (key, value)\n",
    "     # item[1]\n",
    "        if item[1] == maxfreq:\n",
    "            maxfreqE.append(item[0])\n",
    "    # Select the minimum from the keys with maximum frequency\n",
    "    maxfreq = sorted(maxfreqE)\n",
    "    return maxfreqE[2-1]\n",
    "highestFrequency([1,2,5,9,8,7,3,4,2,1])"
   ]
  },
  {
   "cell_type": "code",
   "execution_count": null,
   "metadata": {},
   "outputs": [],
   "source": [
    "# Funtion to identify second highest frequency element.\n",
    "# If there are many such elelments, return second highest frequency element \n",
    "# [1,2,3,2,1,4,4] --> here second highest frequency element is '3'"
   ]
  },
  {
   "cell_type": "code",
   "execution_count": 128,
   "metadata": {},
   "outputs": [
    {
     "data": {
      "text/plain": [
       "2"
      ]
     },
     "execution_count": 128,
     "metadata": {},
     "output_type": "execute_result"
    }
   ],
   "source": [
    "def SecondHighestFrequency(li):\n",
    "    unique = {}\n",
    "    for i in li:\n",
    "        if i not in unique:\n",
    "            unique[i] = 1\n",
    "        else:\n",
    "            unique[i] += 1\n",
    "    print(unique)\n",
    "    freq = unique.values()\n",
    "    uniquemax = []\n",
    "    for i in freq:\n",
    "        if i not in uniquemax:\n",
    "            unique.append(n)\n",
    "    unique = sorted(unique, reverse = True)\n",
    "    Secondmaxfreq =uniquemax(freq)\n",
    "    SecondmaxfreqE = []\n",
    "    for item in unique.items():\n",
    "        if item[1] == Secondmaxfreq:\n",
    "            SecondmaxfreqE.append(item[0])\n",
    "    return min(SecondmaxfreqE)\n",
    "highestFrequency([1,2,3,2,1,4,4,4])"
   ]
  },
  {
   "cell_type": "code",
   "execution_count": null,
   "metadata": {},
   "outputs": [],
   "source": [
    "# Function to identify Kth largest frequency element\n",
    "# if there are many such elements, return the smallest element\n",
    "# [9,8,7,6,5,2,3,4,9,6,7,7,7,6,7,6] --> K = 4; here '2' is the Kth largest element"
   ]
  },
  {
   "cell_type": "code",
   "execution_count": 3,
   "metadata": {},
   "outputs": [
    {
     "name": "stdout",
     "output_type": "stream",
     "text": [
      "4\n",
      "{9: 2, 8: 1, 7: 5, 6: 4, 5: 1, 2: 1, 3: 1, 4: 1}\n",
      "[5, 4, 2, 1]\n",
      "1\n",
      "2\n"
     ]
    }
   ],
   "source": [
    "def kthLargestfrequency(li):\n",
    "    k=int(input())\n",
    "    unique = {}\n",
    "    for i in li:\n",
    "        if i not in unique:\n",
    "            unique[i] = 1\n",
    "        else:\n",
    "            unique[i] += 1\n",
    "    print(unique)\n",
    "    \n",
    "    freq = unique.values()\n",
    "    uniquemax = []\n",
    "    for i in freq:\n",
    "        if i not in uniquemax:\n",
    "            uniquemax.append(i)\n",
    "    uniquemax= sorted(uniquemax, reverse = True)\n",
    "    print(uniquemax)\n",
    "    \n",
    "    if len(uniquemax)>=k:\n",
    "        kmax=uniquemax[k-1]\n",
    "        print(kmax)\n",
    "        kmaxkeys = []\n",
    "        for item in unique.items():\n",
    "            if item[1] == kmax:\n",
    "                kmaxkeys.append(item[0])\n",
    "        return min(kmaxkeys)\n",
    "    return -1\n",
    "\n",
    "print(kthLargestfrequency([9,8,7,6,5,2,3,4,9,6,7,7,7,6,7,6]))"
   ]
  },
  {
   "cell_type": "code",
   "execution_count": 8,
   "metadata": {},
   "outputs": [
    {
     "name": "stdout",
     "output_type": "stream",
     "text": [
      "s\n",
      "g\n",
      "h\n",
      "e\n",
      "w\n",
      "r\n",
      "n\n",
      "k\n",
      "-1\n",
      "-1\n"
     ]
    }
   ],
   "source": [
    "def kHighestFrequency(s, k):\n",
    "     # Unique characters with frequencies\n",
    "    unique = {}\n",
    "    for c in s:\n",
    "        if c not in unique:\n",
    "            unique[c] = 1\n",
    "        else:\n",
    "            unique[c] += 1\n",
    "# unique = {9:2, 8:1, 7:5, 6:4, 5:1, 2:1, 3:1, 4:1}\n",
    "\n",
    "# Extract all unique frequencies in given list\n",
    "# uniqfreq = [2, 1, 5, 4]\n",
    "    uniqfreq = []\n",
    "    for value in unique.values():\n",
    "        if value not in uniqfreq:\n",
    "            uniqfreq.append(value)\n",
    "    uniqfreq = sorted(uniqfreq, reverse = True)\n",
    "    if len(uniqfreq)>k:\n",
    "        kfreq = uniqfreq[k-1]\n",
    "    else:\n",
    "        return -1\n",
    "    kfreqchar = []\n",
    "    for item in unique.items():\n",
    "        if item[1] == kfreq:\n",
    "            kfreqchar.append(item[0])\n",
    "    return min(kfreqchar)\n",
    "    \n",
    "kHighestFrequency([9,8,7,6,5,2,3,4,9,6,7,7,7,6,7,6], 1)\n",
    "with open(\"DataFiles/k-largest-frequency-input.txt\") as f:\n",
    "    t = int(f.readline())\n",
    "    for i in range(t):\n",
    "        s = f.readline()\n",
    "        k = int(f.readline())\n",
    "        print(kHighestFrequency(s,k))\n",
    "    "
   ]
  },
  {
   "cell_type": "code",
   "execution_count": null,
   "metadata": {},
   "outputs": [],
   "source": []
  }
 ],
 "metadata": {
  "kernelspec": {
   "display_name": "Python 3",
   "language": "python",
   "name": "python3"
  },
  "language_info": {
   "codemirror_mode": {
    "name": "ipython",
    "version": 3
   },
   "file_extension": ".py",
   "mimetype": "text/x-python",
   "name": "python",
   "nbconvert_exporter": "python",
   "pygments_lexer": "ipython3",
   "version": "3.7.3"
  }
 },
 "nbformat": 4,
 "nbformat_minor": 2
}
