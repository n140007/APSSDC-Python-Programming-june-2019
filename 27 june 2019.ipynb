{
 "cells": [
  {
   "cell_type": "code",
   "execution_count": 9,
   "metadata": {},
   "outputs": [
    {
     "name": "stdout",
     "output_type": "stream",
     "text": [
      "1 2 3\n",
      "1 2 4\n",
      "1 3 4\n",
      "2 3 4\n"
     ]
    }
   ],
   "source": [
    "# Function to print all combinations of pairs of integers in a unique list\n",
    "# [1, 2, 3] --> (1, 2) , (1, 3) , (2, 3) --> Formula is 3c2 = 3!/(3-2)!*2!\n",
    "\n",
    "# [1, 2, 3, 4] --> (1, 2) , (1, 3) , (1, 4) , (2, 3) , (2, 4) , (3, 4)\n",
    "# [1, 2, 3, 4] --> (1, 2, 3) , (1, 2, 4) , (1, 3, 4) , (2, 3, 4)\n",
    "\n",
    "def combinations3(li):\n",
    "    for i in range(len(li)-1):\n",
    "        for j in range(i+1, len(li)):\n",
    "            for k in range(j+1, len(li)):\n",
    "                print(li[i] , li[j], li[k])\n",
    "combinations([1, 2, 3, 4])\n",
    "            "
   ]
  },
  {
   "cell_type": "code",
   "execution_count": 13,
   "metadata": {},
   "outputs": [
    {
     "name": "stdout",
     "output_type": "stream",
     "text": [
      "1\n",
      "2\n",
      "3\n"
     ]
    }
   ],
   "source": [
    "def combinations1(li):\n",
    "    for i in range(len(li)-1):\n",
    "        print(li[i])\n",
    "combinations1([1, 2, 3, 4])"
   ]
  },
  {
   "cell_type": "code",
   "execution_count": 14,
   "metadata": {},
   "outputs": [
    {
     "name": "stdout",
     "output_type": "stream",
     "text": [
      "1 2\n",
      "1 3\n",
      "1 4\n",
      "2 3\n",
      "2 4\n",
      "3 4\n"
     ]
    }
   ],
   "source": [
    "def combinations2(li):\n",
    "    for i in range(len(li)-1):\n",
    "        for j in range(i+1, len(li)):\n",
    "            print(li[i] , li[j])\n",
    "combinations2([1, 2, 3, 4])"
   ]
  },
  {
   "cell_type": "code",
   "execution_count": 16,
   "metadata": {},
   "outputs": [
    {
     "name": "stdout",
     "output_type": "stream",
     "text": [
      "1 2 3\n",
      "1 2 4\n",
      "1 3 4\n",
      "2 3 4\n"
     ]
    }
   ],
   "source": [
    "def combinations3(li):\n",
    "    for i in range(len(li)-2):\n",
    "        for j in range(i+1, len(li)-1):\n",
    "            for k in range(j+1, len(li)):\n",
    "                print(li[i] , li[j], li[k])\n",
    "combinations3([1, 2, 3, 4])"
   ]
  },
  {
   "cell_type": "code",
   "execution_count": 24,
   "metadata": {},
   "outputs": [
    {
     "data": {
      "text/plain": [
       "[1, 9, 10]"
      ]
     },
     "execution_count": 24,
     "metadata": {},
     "output_type": "execute_result"
    }
   ],
   "source": [
    "#  [1, 2, 3] --> [1, 2, 3] \n",
    "\n",
    "def DifferencePairs(li):\n",
    "    for i in range(len(li)-1):\n",
    "        for j in range(i+1, len(li)):\n",
    "            d= abs(li[i]-li[j])\n",
    "            if d not in li:\n",
    "                li.append(d)\n",
    "    return li\n",
    "DifferencePairs([1,9])    "
   ]
  },
  {
   "cell_type": "code",
   "execution_count": 28,
   "metadata": {},
   "outputs": [
    {
     "data": {
      "text/plain": [
       "[1, 9, 8]"
      ]
     },
     "execution_count": 28,
     "metadata": {},
     "output_type": "execute_result"
    }
   ],
   "source": [
    "def DifferencePairs(li):\n",
    "    cli = li\n",
    "    for i in range(len(li)-1):\n",
    "        for j in range(i+1, len(li)):\n",
    "            d= abs(li[i]-li[j])\n",
    "            if d not in cli:\n",
    "                cli.append(d)\n",
    "    return cli\n",
    "DifferencePairs([1,9])    "
   ]
  },
  {
   "cell_type": "code",
   "execution_count": 183,
   "metadata": {},
   "outputs": [
    {
     "data": {
      "text/plain": [
       "23"
      ]
     },
     "execution_count": 183,
     "metadata": {},
     "output_type": "execute_result"
    }
   ],
   "source": [
    "def medium(li, k):\n",
    "    # li3 = [[] , li]\n",
    "    count = 1\n",
    "    while(True):\n",
    "            li3 = differencePairs(li)\n",
    "            if li3[0] == li3[1]:\n",
    "                break\n",
    "    if  len(li3[0]) >= k:\n",
    "        return sorted(li3[0], reverse = True) [k-1]\n",
    "\n",
    "    else:\n",
    "            return -1\n",
    "# Function to identify differences of all \n",
    "# pairs of numbers and add those differences to the same list\n",
    "# Function returns the original list and updated list\n",
    "def differencePairs(li):\n",
    "    cli = li[:]\n",
    "    newelements = []\n",
    "    for i in range(len(li)-1):\n",
    "        for j in range(i+1, len(li)):\n",
    "            d= abs(li[i]-li[j])\n",
    "            if d not in li and d not in newelements:\n",
    "                newelements.append(str(d))\n",
    "    li.extend(newelements)\n",
    "    return [cli, li]\n",
    "li = [3,6,24]\n",
    "max(li)-2+1\n",
    "   "
   ]
  },
  {
   "cell_type": "code",
   "execution_count": 184,
   "metadata": {},
   "outputs": [
    {
     "name": "stdout",
     "output_type": "stream",
     "text": [
      "90272\n",
      "90331\n",
      "90283\n",
      "90282\n",
      "90124\n",
      "90266\n",
      "90245\n",
      "90244\n",
      "90133\n",
      "90303\n",
      "90186\n",
      "90273\n",
      "90444\n",
      "90421\n",
      "90064\n",
      "90327\n",
      "90001\n",
      "90419\n",
      "90353\n",
      "90152\n",
      "90346\n",
      "90133\n",
      "90020\n",
      "90367\n",
      "90227\n",
      "90270\n",
      "89974\n",
      "90326\n",
      "90278\n",
      "90268\n",
      "90159\n",
      "90193\n",
      "90261\n",
      "90045\n",
      "90116\n",
      "90178\n",
      "90454\n",
      "90291\n",
      "90043\n",
      "90255\n",
      "90138\n",
      "90054\n",
      "90030\n",
      "90114\n",
      "90414\n",
      "90419\n",
      "90034\n",
      "90055\n",
      "90206\n",
      "90000\n",
      "90173\n",
      "90474\n",
      "90327\n",
      "90432\n",
      "90412\n",
      "90273\n",
      "90080\n",
      "90159\n",
      "90343\n",
      "90065\n",
      "90125\n",
      "90343\n",
      "90184\n",
      "90007\n",
      "89991\n",
      "90441\n",
      "90143\n",
      "90227\n",
      "90497\n",
      "90112\n",
      "90352\n",
      "90051\n",
      "90047\n",
      "90228\n",
      "90098\n",
      "90187\n",
      "90028\n",
      "90121\n",
      "90123\n",
      "90201\n",
      "90013\n",
      "90383\n",
      "90159\n",
      "90284\n",
      "90367\n",
      "90057\n",
      "90394\n",
      "90323\n",
      "90487\n",
      "90448\n",
      "90339\n",
      "90129\n",
      "90046\n",
      "90074\n",
      "90014\n",
      "90405\n",
      "90400\n",
      "90397\n",
      "90434\n",
      "90377\n"
     ]
    }
   ],
   "source": [
    "with open('DataFiles/medium-input.txt', 'r') as f:\n",
    "    t = int(f.readline())\n",
    "    for i in range(t):\n",
    "        f.readline()\n",
    "        li =  list(map(int,f.readline().split()))\n",
    "        k = int(f.readline())\n",
    "        print(max(li)-k+1)"
   ]
  },
  {
   "cell_type": "code",
   "execution_count": null,
   "metadata": {},
   "outputs": [],
   "source": [
    "\n",
    "\n",
    "[4, 8]\n",
    "[20, 40, 60]\n",
    "[4, 8, 12, 16]\n",
    "[3, 6, 9, 12]\n",
    "\n",
    "# Convert the list into an Artithmatic Progression\n",
    "\n",
    "[3, 8, 15]\n",
    "[3, 8, 15, 5, 2, 1, 4, 6, 7, 9, 10, 11, 12, 13, 14]"
   ]
  },
  {
   "cell_type": "code",
   "execution_count": null,
   "metadata": {},
   "outputs": [],
   "source": [
    "# List Data referencing vs Data copy\n",
    "a = [1,2,3]\n",
    "b= [1,3,2]\n",
    "a = b.copy() # Data Copy through indirect reference\n",
    "a = b[:]  # Data Copy through direct reference\n",
    "a = b # Data Referencing\n",
    "\n",
    "b.append(4)\n",
    "a.append(5)\n",
    "b"
   ]
  },
  {
   "cell_type": "code",
   "execution_count": 70,
   "metadata": {},
   "outputs": [
    {
     "data": {
      "text/plain": [
       "[2, 3, 6, 9, 12, 1, 4, 7, 10, 5, 8, 11]"
      ]
     },
     "execution_count": 70,
     "metadata": {},
     "output_type": "execute_result"
    }
   ],
   "source": [
    "def differencePairs(li):\n",
    "    newelements = []\n",
    "    c = li.copy()\n",
    "    for i in range(len(li)-1):\n",
    "        for j in range(i+1, len(li)):\n",
    "            d = abs(li[i]-li[j])\n",
    "            if d not in li and d not in newelements:\n",
    "                newelements.append(d)\n",
    "    li.extend(newelements)\n",
    "    return li\n",
    "li = [2, 3, 6, 9, 12, 1, 4, 7, 10, 5, 8,]\n",
    "differencePairs(li)"
   ]
  },
  {
   "cell_type": "markdown",
   "metadata": {},
   "source": [
    "## Set - Data Structure in Python\n",
    "\n",
    "- Represented by { }\n",
    "- Set doesn't allow repeated elements\n",
    "- Set object doesn't support index\n",
    "- Set is mutable (means  we can change it)\n",
    "- Set doetn't have any order\n",
    "- It can contain any kind of data"
   ]
  },
  {
   "cell_type": "code",
   "execution_count": 85,
   "metadata": {},
   "outputs": [
    {
     "data": {
      "text/plain": [
       "{1, 2, 3, 4, 5, 6, 7, 8, 9, 10, 11, 12, 13}"
      ]
     },
     "execution_count": 85,
     "metadata": {},
     "output_type": "execute_result"
    }
   ],
   "source": [
    "a = {1, 2, 3, 4, 5, 6, 6} # Set doesn't allow repeated elements\n",
    "a.add(7) # adding a single element to a set\n",
    "#for i in a:\n",
    "    # print(i, end=\" \") ----> Accessing elements in a set\n",
    "    \n",
    "b = {7,8 ,9,1,2,3} # Set removes duplicate elelments\n",
    "li = [10,11,12,13]\n",
    "a.update(b, li) # Adding multiple elements\n",
    "a"
   ]
  },
  {
   "cell_type": "code",
   "execution_count": 97,
   "metadata": {},
   "outputs": [
    {
     "data": {
      "text/plain": [
       "{2, 3, 4, 5, 6, 7, 8, 9, 11, 13}"
      ]
     },
     "execution_count": 97,
     "metadata": {},
     "output_type": "execute_result"
    }
   ],
   "source": [
    "a.discard(10)\n",
    "a"
   ]
  },
  {
   "cell_type": "code",
   "execution_count": 112,
   "metadata": {},
   "outputs": [
    {
     "data": {
      "text/plain": [
       "True"
      ]
     },
     "execution_count": 112,
     "metadata": {},
     "output_type": "execute_result"
    }
   ],
   "source": [
    "a = {1,2,3,4,5,6}\n",
    "b = {7,8,9,10,12,1,4,6,2}\n",
    "c = {13,14,15,16}\n",
    "a.union(b) # {1, 2, 3, 4, 5, 6, 7, 8, 9, 10, 12}\n",
    "b.union(a) # AUB = BUA  # {1, 2, 3, 4, 5, 6, 7, 8, 9, 10, 12}\n",
    "a.intersection(b) # {1, 2, 4, 6}\n",
    "b.intersection(a) # {1, 2, 4, 6}\n",
    "a.isdisjoint(c) # True\n",
    "a.isdisjoint(b) # False\n",
    "b-a # {7, 8, 9, 10, 12}\n",
    "a-b # {3, 5} # All elements of \"a\" whcih are not in \"b\""
   ]
  },
  {
   "cell_type": "code",
   "execution_count": 124,
   "metadata": {},
   "outputs": [
    {
     "data": {
      "text/plain": [
       "set()"
      ]
     },
     "execution_count": 124,
     "metadata": {},
     "output_type": "execute_result"
    }
   ],
   "source": [
    "sorted(a) # [1, 2, 3, 4, 5, 6]\n",
    "sorted(b) # [1, 2, 4, 6, 7, 8, 9, 10, 12] \n",
    "a ^ b   # {3, 5, 7, 8, 9, 10, 12} # elements either in \"a\" or \"b\"\n",
    "d = set() # Creates an empty set\n",
    "d"
   ]
  },
  {
   "cell_type": "code",
   "execution_count": 139,
   "metadata": {},
   "outputs": [
    {
     "data": {
      "text/plain": [
       "{1, 2, 3, 4, 5, 6, 7, 8, 10, 11, 12}"
      ]
     },
     "execution_count": 139,
     "metadata": {},
     "output_type": "execute_result"
    }
   ],
   "source": [
    "li =[1,2,3,4,5,6,7,8,10,11,12]\n",
    "unique= set(li)\n",
    "unique"
   ]
  },
  {
   "cell_type": "markdown",
   "metadata": {},
   "source": [
    "   ## Functional Programming"
   ]
  },
  {
   "cell_type": "code",
   "execution_count": null,
   "metadata": {},
   "outputs": [],
   "source": [
    "Procedural : C\n",
    "\n",
    "Object Oriented : Java, Python\n",
    "    \n",
    "Scrripting : PHP, Python, Javascript, SQL\n",
    "    \n",
    "Functional : Python, Haskell, Scala\n",
    "    \n",
    "Logic : Prolog, Lisp\n",
    "    \n"
   ]
  },
  {
   "cell_type": "markdown",
   "metadata": {},
   "source": [
    "### List Comprehensions"
   ]
  },
  {
   "cell_type": "code",
   "execution_count": 140,
   "metadata": {},
   "outputs": [
    {
     "data": {
      "text/plain": [
       "[0, 1, 2, 3, 4, 5, 6, 7, 8, 9]"
      ]
     },
     "execution_count": 140,
     "metadata": {},
     "output_type": "execute_result"
    }
   ],
   "source": [
    "# N natural numbers in a list\n",
    "\n",
    "n = 10\n",
    "li = []\n",
    "for i in range(n):\n",
    "    li.append(i)\n",
    "li"
   ]
  },
  {
   "cell_type": "code",
   "execution_count": 141,
   "metadata": {},
   "outputs": [
    {
     "data": {
      "text/plain": [
       "[1, 2, 3, 4, 5, 6, 7, 8, 9, 10]"
      ]
     },
     "execution_count": 141,
     "metadata": {},
     "output_type": "execute_result"
    }
   ],
   "source": [
    "li = [i for i in range(1, 11)]\n",
    "li"
   ]
  },
  {
   "cell_type": "code",
   "execution_count": 145,
   "metadata": {},
   "outputs": [
    {
     "data": {
      "text/plain": [
       "[1, 8, 27, 64, 125, 216, 343, 512, 729, 1000]"
      ]
     },
     "execution_count": 145,
     "metadata": {},
     "output_type": "execute_result"
    }
   ],
   "source": [
    "# Apply list comprehension to store the cubes on N natural numbers\n",
    "\n",
    "li = [i**3 for i in range(1, 11)]\n",
    "li"
   ]
  },
  {
   "cell_type": "code",
   "execution_count": 166,
   "metadata": {},
   "outputs": [
    {
     "data": {
      "text/plain": [
       "[1, 2, 6, 24, 120]"
      ]
     },
     "execution_count": 166,
     "metadata": {},
     "output_type": "execute_result"
    }
   ],
   "source": [
    "# Function to calculate the factorial \n",
    "\n",
    "def factorial(n):\n",
    "    if n==0 or n==1:\n",
    "        return 1\n",
    "    return n*factorial(n-1)\n",
    "# Apply list comprehension to calculate factorial of n natural numbers\n",
    "\n",
    "\n",
    "n = 5\n",
    "factorialList = [factorial(i) for i in range(1, n+1)]\n",
    "factorialList"
   ]
  },
  {
   "cell_type": "code",
   "execution_count": 172,
   "metadata": {},
   "outputs": [
    {
     "data": {
      "text/plain": [
       "[1, 3, 6, 10, 15, 21]"
      ]
     },
     "execution_count": 172,
     "metadata": {},
     "output_type": "execute_result"
    }
   ],
   "source": [
    "# Store cumulative sum of numbers till n\n",
    "\n",
    "# n = 5 --> [1, 3, 6, 10, 15]\n",
    "\n",
    "n = 6\n",
    "cumulativeSum = [sum(range(1,i+1)) for i in range(1,n+1)]\n",
    "cumulativeSum"
   ]
  },
  {
   "cell_type": "code",
   "execution_count": 171,
   "metadata": {},
   "outputs": [
    {
     "data": {
      "text/plain": [
       "[1972, 1976, 1980, 1984, 1988, 1992, 1996, 2000, 2004, 2008, 2012, 2016]"
      ]
     },
     "execution_count": 171,
     "metadata": {},
     "output_type": "execute_result"
    }
   ],
   "source": [
    "# List Comprehension to store \n",
    "# only leap years in a given time period\n",
    "\n",
    "sy = 1970\n",
    "ey = 2019\n",
    "leapYears = [i for i in range(sy,ey+1)\n",
    "                              if i % 400 == 0 or (i % 100 != 0 and i % 4 == 0)]\n",
    "\n",
    "             \n",
    "leapYears"
   ]
  },
  {
   "cell_type": "code",
   "execution_count": 149,
   "metadata": {},
   "outputs": [
    {
     "data": {
      "text/plain": [
       "[1, 2, 3, 4, 5]"
      ]
     },
     "execution_count": 149,
     "metadata": {},
     "output_type": "execute_result"
    }
   ],
   "source": [
    "li = [1,2,3,2,1, 4, 4, 5,5,5]\n",
    "li.sort()\n",
    "u2 = []\n",
    "unique = []\n",
    "#unique = [li[i] for i in range(0,len(li)-1) if (li[i] != li[i+1] and i < len(li)-1) or (i == len(li)-1)]\n",
    "[u2.append(i) for i in li if i not in u2 ]\n",
    "u2"
   ]
  },
  {
   "cell_type": "code",
   "execution_count": 173,
   "metadata": {},
   "outputs": [
    {
     "data": {
      "text/plain": [
       "5"
      ]
     },
     "execution_count": 173,
     "metadata": {},
     "output_type": "execute_result"
    }
   ],
   "source": [
    "sorted(li)[9]"
   ]
  },
  {
   "cell_type": "markdown",
   "metadata": {},
   "source": [
    "## Iterators\n",
    "\n",
    "Iterable - Strings, Lists, Tuples, Sets, Dictionaries <br>\n",
    "\n",
    "Convert Iterable to Iterator -> iter() <br>\n",
    "\n",
    "For Loop: <br>\n",
    "\n",
    "Iterator: <br>"
   ]
  },
  {
   "cell_type": "code",
   "execution_count": 182,
   "metadata": {},
   "outputs": [
    {
     "name": "stdout",
     "output_type": "stream",
     "text": [
      " 1: P\n",
      "\n",
      "\n",
      " 2: y\n"
     ]
    }
   ],
   "source": [
    "it = iter('Python')\n",
    "\n",
    "print(' 1: ', end=\"\")\n",
    "print(next(it))\n",
    "print('\\n')\n",
    "print(' 2: ', end=\"\")\n",
    "print(next(it))"
   ]
  },
  {
   "cell_type": "markdown",
   "metadata": {},
   "source": [
    "## Generators\n",
    "\n",
    "Generator is Function <br>"
   ]
  },
  {
   "cell_type": "code",
   "execution_count": 175,
   "metadata": {},
   "outputs": [
    {
     "name": "stdout",
     "output_type": "stream",
     "text": [
      "8\n",
      "512\n",
      "134217728\n",
      "2417851639229258349412352\n",
      "14134776518227074636666380005943348126619871175004951664972849610340958208\n"
     ]
    },
    {
     "data": {
      "text/plain": [
       "2824013958708217496949108842204627863351353911851577524683401930862693830361198499905873920995229996970897865498283996578123296865878390947626553088486946106430796091482716120572632072492703527723757359478834530365734912"
      ]
     },
     "execution_count": 175,
     "metadata": {},
     "output_type": "execute_result"
    }
   ],
   "source": [
    "def gen():\n",
    "    n = 2\n",
    "    while True:\n",
    "        n **= 3\n",
    "        yield n\n",
    "\n",
    "a = gen()\n",
    "\n",
    "for i in range(5):\n",
    "    print(next(a))\n",
    "    \n",
    "next(a)"
   ]
  },
  {
   "cell_type": "code",
   "execution_count": null,
   "metadata": {},
   "outputs": [],
   "source": []
  }
 ],
 "metadata": {
  "kernelspec": {
   "display_name": "Python 3",
   "language": "python",
   "name": "python3"
  },
  "language_info": {
   "codemirror_mode": {
    "name": "ipython",
    "version": 3
   },
   "file_extension": ".py",
   "mimetype": "text/x-python",
   "name": "python",
   "nbconvert_exporter": "python",
   "pygments_lexer": "ipython3",
   "version": "3.7.3"
  }
 },
 "nbformat": 4,
 "nbformat_minor": 2
}
