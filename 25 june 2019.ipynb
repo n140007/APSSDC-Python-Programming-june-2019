{
 "cells": [
  {
   "cell_type": "markdown",
   "metadata": {},
   "source": [
    "### Practic Test Problems"
   ]
  },
  {
   "cell_type": "markdown",
   "metadata": {},
   "source": [
    "#### Digit Frequency\n",
    "Given a string, constiting of alphabets and digits, find the frequency of each digit in th given string. <br>\n",
    "**INPUT FORMAT** <br>\n",
    "The first line contains a string, num, whcih is the given number. <br>\n",
    "**Constraints** <br>\n",
    "1<=len(num)<=1000 <br>\n",
    "All the elements of num are made of english alphabets and digits. <br>\n",
    "**OUTPUT FORMAT** <br>\n",
    "Print ten space-separated integers in a single line denoting the frequency of each digit from 0 to 9. <br>"
   ]
  },
  {
   "cell_type": "code",
   "execution_count": 7,
   "metadata": {},
   "outputs": [
    {
     "name": "stdout",
     "output_type": "stream",
     "text": [
      "0 4 1 1 1 1 1 0 0 0 "
     ]
    }
   ],
   "source": [
    "# s = 213abc456def111\n",
    "\n",
    "# 0 1 1 1 1 1 1 0 0 0 -> Frequency of sorted numbers\n",
    "\n",
    "# s = c\n",
    "# 0 0 0 0 0 0 0 0 0 0 \n",
    "\n",
    "# s = 1234567890\n",
    "# 1 1 1 1 1 1 1 1 1 1\n",
    "\n",
    "def uniqueData(allnumbers):\n",
    "    unique = []\n",
    "    for n in allnumbers:\n",
    "        if n not in unique:\n",
    "            unique.append(n)\n",
    "    return unique\n",
    "def DigitFrequency(s):\n",
    "    allnumbers = []\n",
    "    for i in s:\n",
    "        if i.isdigit():\n",
    "            allnumbers.append(i)\n",
    "    unique = uniqueData(allnumbers)\n",
    "    for i in range(0, 10):\n",
    "        if str(i) not in unique:\n",
    "                print(0, end=\" \")\n",
    "        else:\n",
    "                count = allnumbers.count(str(i))\n",
    "                print(count, end=\" \")\n",
    "DigitFrequency(\"213abc456def111\")\n"
   ]
  },
  {
   "cell_type": "code",
   "execution_count": 9,
   "metadata": {},
   "outputs": [
    {
     "name": "stdout",
     "output_type": "stream",
     "text": [
      "0 4 1 1 1 1 1 0 0 0 "
     ]
    }
   ],
   "source": [
    "def digitFrequency2(s):\n",
    "    for i in range(0, 10):\n",
    "        count = s.count(str(i))\n",
    "        print(count, end=\" \")\n",
    "digitFrequency2(\"213abc456def111\")\n",
    "        \n"
   ]
  },
  {
   "cell_type": "code",
   "execution_count": 3,
   "metadata": {},
   "outputs": [
    {
     "data": {
      "text/plain": [
       "0"
      ]
     },
     "execution_count": 3,
     "metadata": {},
     "output_type": "execute_result"
    }
   ],
   "source": [
    "# Function to check if two strings are anagrams\n",
    "# abc cba -> True\n",
    "# {a:1, b:1, c:1} {c:1:, a:1, b:1}\n",
    "# aabccc ccbbaaa -> False\n",
    "# if sorted aabccc aaabbcc\n",
    "# {a:2, b:2, c:2} {a:2, b:2, c:2}\n",
    "\n",
    "def checkAnagrams(s1, s2):\n",
    "    if len(s1)!=len(s2):\n",
    "        return False\n",
    "    elif(sorted(s1)==sorted(s2)):\n",
    "            return True\n",
    "    else:\n",
    "        return False\n",
    "\n",
    "\n",
    "def charDeletionsAnagrams(s1, s2):\n",
    "    # to collect all uncommon characters - characters occurring in only one string\n",
    "    uncommon = []\n",
    "    for i in s1:\n",
    "        if i not in s2:\n",
    "            uncommon.append(i)\n",
    "    for i in s2:\n",
    "        if i not in s1:\n",
    "            uncommon.append(i)\n",
    "    count = len(uncommon)\n",
    "    for i in s1:\n",
    "        if i not in uncommon:\n",
    "            count = len(uncommon)\n",
    "            # freqs1 -> Frequency of common characters in s1\n",
    "            freqs1 = {}\n",
    "            freqs2 = {}\n",
    "            # unique characters in s1 and s2\n",
    "            uniqs1 = []\n",
    "            uniqs2 = []\n",
    "    # Frequency of unique characters in s1\n",
    "    for i in s1:\n",
    "            if i not in uncommon and i not in uniqs1:\n",
    "                freqs1[i] = s1.count(i)\n",
    "                uniqs1.append(i)\n",
    "    # Frequency of unique characters in s2\n",
    "    for i in s2:\n",
    "            if i not in uncommon and i not in uniqs2:\n",
    "                freqs2[i] = s2.count(i)\n",
    "                uniqs2.append(i)\n",
    "    # Difference in frequencies for common characters\n",
    "    for key in freqs1.keys():\n",
    "             count +=abs(freqs1[key] - freqs2[key])\n",
    "    return count\n",
    "charDeletionsAnagrams(\"abc\", \"bca\")\n",
    "            "
   ]
  },
  {
   "cell_type": "code",
   "execution_count": null,
   "metadata": {},
   "outputs": [],
   "source": [
    "for _ in range(int(input())):\n",
    "    a = input()\n",
    "    b = input()\n",
    "    a1 = [0]*26\n",
    "    b1 = [0]*26\n",
    "    for element in a:\n",
    "        a1[ord(element)-97]+=1\n",
    "    for element in b:\n",
    "        b1[ord(element)-97]+=1\n",
    "    res1 = 0\n",
    "    \n",
    "    for i in range (26):\n",
    "        res1 = res1 + (abs(a[i]))\n",
    "        \n",
    "    print(res1)"
   ]
  },
  {
   "cell_type": "code",
   "execution_count": null,
   "metadata": {},
   "outputs": [],
   "source": [
    "t = int(input())\n",
    "for i in range(0,t):\n",
    "    s1 = input()\n",
    "    s2 = input()\n",
    "    print(charDeletionsAnagrams(s1, s2))"
   ]
  },
  {
   "cell_type": "markdown",
   "metadata": {},
   "source": [
    "- 25-june-2019\n",
    "### Practice Test Problems"
   ]
  },
  {
   "cell_type": "code",
   "execution_count": 17,
   "metadata": {},
   "outputs": [
    {
     "data": {
      "text/plain": [
       "5"
      ]
     },
     "execution_count": 17,
     "metadata": {},
     "output_type": "execute_result"
    }
   ],
   "source": [
    "# 1. Averge of all numbers 0 to 10\n",
    "def average(lb, ub):\n",
    "    sum = 0\n",
    "    for i in range(lb, ub+1):\n",
    "        sum = sum + i\n",
    "    count = ub-lb+1\n",
    "    return(sum//count)\n",
    "average(1, 10)\n",
    "\n"
   ]
  },
  {
   "cell_type": "code",
   "execution_count": 28,
   "metadata": {},
   "outputs": [
    {
     "ename": "TypeError",
     "evalue": "'builtin_function_or_method' object is not subscriptable",
     "output_type": "error",
     "traceback": [
      "\u001b[1;31m---------------------------------------------------------------------------\u001b[0m",
      "\u001b[1;31mTypeError\u001b[0m                                 Traceback (most recent call last)",
      "\u001b[1;32m<ipython-input-28-cebe363a019d>\u001b[0m in \u001b[0;36m<module>\u001b[1;34m\u001b[0m\n\u001b[0;32m     29\u001b[0m                 \u001b[0mli\u001b[0m\u001b[1;33m.\u001b[0m\u001b[0mappend\u001b[0m\u001b[1;33m(\u001b[0m\u001b[0mitem\u001b[0m\u001b[1;33m[\u001b[0m\u001b[1;36m0\u001b[0m\u001b[1;33m]\u001b[0m\u001b[1;33m)\u001b[0m\u001b[1;33m\u001b[0m\u001b[1;33m\u001b[0m\u001b[0m\n\u001b[0;32m     30\u001b[0m         \u001b[1;32mreturn\u001b[0m \u001b[0mmin\u001b[0m\u001b[1;33m(\u001b[0m\u001b[0mli\u001b[0m\u001b[1;33m)\u001b[0m\u001b[1;33m\u001b[0m\u001b[1;33m\u001b[0m\u001b[0m\n\u001b[1;32m---> 31\u001b[1;33m \u001b[0mKLargestFrequency\u001b[0m\u001b[1;33m(\u001b[0m\u001b[1;34m\"aabcd\"\u001b[0m\u001b[1;33m,\u001b[0m \u001b[1;36m2\u001b[0m\u001b[1;33m)\u001b[0m\u001b[1;33m\u001b[0m\u001b[1;33m\u001b[0m\u001b[0m\n\u001b[0m",
      "\u001b[1;32m<ipython-input-28-cebe363a019d>\u001b[0m in \u001b[0;36mKLargestFrequency\u001b[1;34m(s, k)\u001b[0m\n\u001b[0;32m     19\u001b[0m     \u001b[1;32mfor\u001b[0m \u001b[0mi\u001b[0m \u001b[1;32min\u001b[0m \u001b[0ms\u001b[0m\u001b[1;33m:\u001b[0m\u001b[1;33m\u001b[0m\u001b[1;33m\u001b[0m\u001b[0m\n\u001b[0;32m     20\u001b[0m         \u001b[1;32mif\u001b[0m \u001b[0mi\u001b[0m \u001b[1;32mnot\u001b[0m \u001b[1;32min\u001b[0m \u001b[0mfreq\u001b[0m\u001b[1;33m.\u001b[0m\u001b[0mkeys\u001b[0m\u001b[1;33m(\u001b[0m\u001b[1;33m)\u001b[0m\u001b[1;33m:\u001b[0m\u001b[1;33m\u001b[0m\u001b[1;33m\u001b[0m\u001b[0m\n\u001b[1;32m---> 21\u001b[1;33m             \u001b[0mfreq\u001b[0m\u001b[1;33m[\u001b[0m\u001b[0mi\u001b[0m\u001b[1;33m]\u001b[0m \u001b[1;33m=\u001b[0m \u001b[0ms\u001b[0m\u001b[1;33m.\u001b[0m\u001b[0mcount\u001b[0m\u001b[1;33m[\u001b[0m\u001b[0mi\u001b[0m\u001b[1;33m]\u001b[0m\u001b[1;33m\u001b[0m\u001b[1;33m\u001b[0m\u001b[0m\n\u001b[0m\u001b[0;32m     22\u001b[0m         \u001b[0mvalues\u001b[0m \u001b[1;33m=\u001b[0m \u001b[0msorted\u001b[0m\u001b[1;33m(\u001b[0m\u001b[0mfreq\u001b[0m\u001b[1;33m.\u001b[0m\u001b[0mvalues\u001b[0m\u001b[1;33m(\u001b[0m\u001b[1;33m)\u001b[0m\u001b[1;33m,\u001b[0m \u001b[0mreverse\u001b[0m \u001b[1;33m=\u001b[0m \u001b[1;32mTrue\u001b[0m\u001b[1;33m)\u001b[0m\u001b[1;33m\u001b[0m\u001b[1;33m\u001b[0m\u001b[0m\n\u001b[0;32m     23\u001b[0m         \u001b[0muniqueValues\u001b[0m \u001b[1;33m=\u001b[0m \u001b[0mlist\u001b[0m\u001b[1;33m(\u001b[0m\u001b[0mset\u001b[0m\u001b[1;33m(\u001b[0m\u001b[0mvalues\u001b[0m\u001b[1;33m)\u001b[0m\u001b[1;33m)\u001b[0m\u001b[1;33m\u001b[0m\u001b[1;33m\u001b[0m\u001b[0m\n",
      "\u001b[1;31mTypeError\u001b[0m: 'builtin_function_or_method' object is not subscriptable"
     ]
    }
   ],
   "source": [
    "# 2. Function to find Kth Largest Frequency\n",
    "    \n",
    "    \n",
    "# {a:4, g:9, i:6, p:213}\n",
    "# [4,6,6,9, 213]\n",
    "# [213, 10, 9, 6, 6, 4]\n",
    "# k = 3\n",
    "# li = []\n",
    "# for item in d.items():\n",
    "# if item[1] == 6:\n",
    "# li.append(item[0])\n",
    "# li = [i, c]\n",
    "\n",
    "\n",
    "def KLargestFrequency(s,k):\n",
    "    # construct the frequency dictionary for all\n",
    "    unique = []\n",
    "    freq = {}\n",
    "    for i in s:\n",
    "        if i not in freq.keys():\n",
    "            freq[i] = s.count[i]\n",
    "        values = sorted(freq.values(), reverse = True)\n",
    "        uniqueValues = list(set(values))\n",
    "        uniqueValues = sorted(uniquevalues, reverse = True)\n",
    "        if k <= len(freq.keys()):\n",
    "             kvalue = uniqueValues[k-1]\n",
    "        for item in freq.items():\n",
    "            if item[1] == kvalue:\n",
    "                li.append(item[0])\n",
    "        return min(li)\n",
    "KLargestFrequency(\"aabcd\", 2)"
   ]
  },
  {
   "cell_type": "code",
   "execution_count": null,
   "metadata": {},
   "outputs": [],
   "source": []
  }
 ],
 "metadata": {
  "kernelspec": {
   "display_name": "Python 3",
   "language": "python",
   "name": "python3"
  },
  "language_info": {
   "codemirror_mode": {
    "name": "ipython",
    "version": 3
   },
   "file_extension": ".py",
   "mimetype": "text/x-python",
   "name": "python",
   "nbconvert_exporter": "python",
   "pygments_lexer": "ipython3",
   "version": "3.7.3"
  }
 },
 "nbformat": 4,
 "nbformat_minor": 2
}
