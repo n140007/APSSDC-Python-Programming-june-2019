{
 "cells": [
  {
   "cell_type": "code",
   "execution_count": null,
   "metadata": {},
   "outputs": [],
   "source": [
    "# HackerEarth problems\n",
    "\n",
    "# Count Divisors\n",
    "def countDivisors(i, j, k):\n",
    "    count = 0\n",
    "    for n in range(i, j+1):\n",
    "        if n%k==0:\n",
    "            count = count + 1\n",
    "    print(count)\n",
    "    return\n",
    "s = input()\n",
    "s = s.split()\n",
    "i = int(s[0])\n",
    "j = int(s[1])\n",
    "k = int(s[2])\n",
    "countDivisors(i, j, k)"
   ]
  },
  {
   "cell_type": "code",
   "execution_count": null,
   "metadata": {},
   "outputs": [],
   "source": [
    "# Factrotial Of a Number\n",
    "\n",
    "def factorial(N):\n",
    "    sum = 1\n",
    "    for i in range(1, N+1):\n",
    "       sum = sum * i\n",
    "    print(sum)\n",
    "N = int(input())    \n",
    "factorial(N)\n"
   ]
  },
  {
   "cell_type": "code",
   "execution_count": null,
   "metadata": {},
   "outputs": [],
   "source": [
    "# Two Strings\n",
    "\n",
    "n=int(input())\n",
    "for i in range(n):\n",
    "    z=[list(i) for i in input().split()]\n",
    "    if sorted(z[0]) == sorted(z[1]):\n",
    "        print(\"YES\")\n",
    "    else:\n",
    "        print(\"NO\")"
   ]
  },
  {
   "cell_type": "code",
   "execution_count": null,
   "metadata": {},
   "outputs": [],
   "source": [
    "# Toggle String\n",
    "\n",
    "s = \"abcdE\"\n",
    "s=s.swapcase()\n",
    "s"
   ]
  },
  {
   "cell_type": "code",
   "execution_count": 3,
   "metadata": {},
   "outputs": [
    {
     "data": {
      "text/plain": [
       "'abc'"
      ]
     },
     "execution_count": 3,
     "metadata": {},
     "output_type": "execute_result"
    }
   ],
   "source": [
    "s = \"abc\"\n",
    "s.islower()\n",
    "s.isupper()\n",
    "\n",
    "s.lower() # Convert a characer to lower case\n",
    "s.upper() # Convert a character into Upper case\n",
    "s.split()\n",
    "list(s)\n",
    "s.split()\n",
    "\n",
    "s=list(s)\n",
    "\"\".join(s)\n",
    "\n",
    " "
   ]
  },
  {
   "cell_type": "code",
   "execution_count": 4,
   "metadata": {},
   "outputs": [
    {
     "data": {
      "text/plain": [
       "['A', 'B', 'C', 'e']"
      ]
     },
     "execution_count": 4,
     "metadata": {},
     "output_type": "execute_result"
    }
   ],
   "source": [
    "# Function to Toggle Sting characters\n",
    "\n",
    "def toggleString(s):\n",
    "    # Convert the string into a list\n",
    "    s = list(s)\n",
    "    t = []\n",
    "    for c in s:\n",
    "        if c.islower():\n",
    "            t.append(c.upper())\n",
    "        else:\n",
    "            t.append(c.lower())\n",
    "    return t\n",
    "toggleString(\"abcE\")"
   ]
  },
  {
   "cell_type": "markdown",
   "metadata": {},
   "source": [
    "#### Duration Problem\n",
    "\n",
    "**Input** : Start Time, End Time (HH, MM) <br>\n",
    "        HH - {00, 01, 02, 03, --- , 23} <br>\n",
    "        MM - {00, 01, 02, 03, ---, 59} <br>\n",
    "        HH MM - {00 00, 23 59} <br>\n",
    "        \n",
    "**Output** : Time Difference in  HH MM"
   ]
  },
  {
   "cell_type": "code",
   "execution_count": 6,
   "metadata": {},
   "outputs": [
    {
     "name": "stdout",
     "output_type": "stream",
     "text": [
      "5 41\n"
     ]
    }
   ],
   "source": [
    "# Calculate the time difference as total number of minutes\n",
    "# Convert the total number of minutes\n",
    "  \n",
    "s = \"2 42 8 23\"    \n",
    "def minuteDifference(s):\n",
    "    s = s.split()\n",
    "    sh = int(s[0])\n",
    "    sm = int(s[1])\n",
    "    eh = int(s[2])\n",
    "    em = int(s[3])\n",
    "    startminutes = sh * 60 + sm\n",
    "    endminutes = eh * 60 + em\n",
    "    return endminutes - startminutes\n",
    "def OutputTimeFormat(minutes):\n",
    "    # Convert minutes into HH MM\n",
    "    hh = minutes // 60\n",
    "    mm = minutes % 60\n",
    "    print(hh, mm)\n",
    "    return\n",
    "minutes = minuteDifference(s)\n",
    "OutputTimeFormat(minutes)\n",
    "    \n",
    "    "
   ]
  },
  {
   "cell_type": "markdown",
   "metadata": {},
   "source": [
    "# How to read input in HackerEarth\n",
    "\n",
    "5     <br>\n",
    "23 37 <br>\n",
    "6 5   <br>\n",
    "12 11 <br>\n",
    "5 4    <br>\n",
    "77 22   <br>"
   ]
  },
  {
   "cell_type": "code",
   "execution_count": 5,
   "metadata": {},
   "outputs": [
    {
     "data": {
      "text/plain": [
       "True"
      ]
     },
     "execution_count": 5,
     "metadata": {},
     "output_type": "execute_result"
    }
   ],
   "source": [
    "def perfect(n):\n",
    "    s = 0\n",
    "    for i in range(1, n):\n",
    "        if n%i==0:\n",
    "            s =s+i\n",
    "    return s == n\n",
    "perfect(6)\n",
    "        "
   ]
  },
  {
   "cell_type": "code",
   "execution_count": 7,
   "metadata": {},
   "outputs": [
    {
     "data": {
      "text/plain": [
       "[False, False, False, True, True]"
      ]
     },
     "execution_count": 7,
     "metadata": {},
     "output_type": "execute_result"
    }
   ],
   "source": [
    "def perfect(n):\n",
    "    s = 0\n",
    "    for i in range(1, n):\n",
    "        if n%i==0:\n",
    "            s =s+i\n",
    "    return s == n\n",
    "l = [12, 23, 24, 6, 28]\n",
    "res = []\n",
    "for i in l:\n",
    "    res.append(perfect(i))\n",
    "res\n"
   ]
  },
  {
   "cell_type": "code",
   "execution_count": 13,
   "metadata": {},
   "outputs": [
    {
     "ename": "TypeError",
     "evalue": "can only concatenate list (not \"int\") to list",
     "output_type": "error",
     "traceback": [
      "\u001b[1;31m---------------------------------------------------------------------------\u001b[0m",
      "\u001b[1;31mTypeError\u001b[0m                                 Traceback (most recent call last)",
      "\u001b[1;32m<ipython-input-13-6cec866fde60>\u001b[0m in \u001b[0;36m<module>\u001b[1;34m\u001b[0m\n\u001b[0;32m      6\u001b[0m     \u001b[1;32mfor\u001b[0m \u001b[0mi\u001b[0m \u001b[1;32min\u001b[0m \u001b[0mrange\u001b[0m\u001b[1;33m(\u001b[0m\u001b[1;36m1\u001b[0m\u001b[1;33m,\u001b[0m \u001b[0mj\u001b[0m\u001b[1;33m)\u001b[0m\u001b[1;33m:\u001b[0m\u001b[1;33m\u001b[0m\u001b[1;33m\u001b[0m\u001b[0m\n\u001b[0;32m      7\u001b[0m         \u001b[1;32mif\u001b[0m \u001b[0mj\u001b[0m\u001b[1;33m%\u001b[0m\u001b[0mi\u001b[0m\u001b[1;33m==\u001b[0m\u001b[1;36m0\u001b[0m\u001b[1;33m:\u001b[0m\u001b[1;33m\u001b[0m\u001b[1;33m\u001b[0m\u001b[0m\n\u001b[1;32m----> 8\u001b[1;33m             \u001b[0ms\u001b[0m \u001b[1;33m=\u001b[0m\u001b[0ms\u001b[0m\u001b[1;33m+\u001b[0m\u001b[0mi\u001b[0m\u001b[1;33m\u001b[0m\u001b[1;33m\u001b[0m\u001b[0m\n\u001b[0m\u001b[0;32m      9\u001b[0m     \u001b[0mres\u001b[0m\u001b[1;33m.\u001b[0m\u001b[0mappend\u001b[0m\u001b[1;33m(\u001b[0m\u001b[0ms\u001b[0m \u001b[1;33m==\u001b[0m \u001b[0mj\u001b[0m\u001b[1;33m)\u001b[0m\u001b[1;33m\u001b[0m\u001b[1;33m\u001b[0m\u001b[0m\n\u001b[0;32m     10\u001b[0m \u001b[0mres\u001b[0m\u001b[1;33m\u001b[0m\u001b[1;33m\u001b[0m\u001b[0m\n",
      "\u001b[1;31mTypeError\u001b[0m: can only concatenate list (not \"int\") to list"
     ]
    }
   ],
   "source": [
    "\n",
    "l = [12, 23, 24, 6, 28]\n",
    "res = []\n",
    "for j in l:\n",
    "    sum = 0\n",
    "    for i in range(1, j):\n",
    "        if j%i==0:\n",
    "            s =s+i\n",
    "    res.append(s == j)\n",
    "res"
   ]
  },
  {
   "cell_type": "code",
   "execution_count": 14,
   "metadata": {},
   "outputs": [
    {
     "data": {
      "text/plain": [
       "['__add__',\n",
       " '__class__',\n",
       " '__contains__',\n",
       " '__delattr__',\n",
       " '__dir__',\n",
       " '__doc__',\n",
       " '__eq__',\n",
       " '__format__',\n",
       " '__ge__',\n",
       " '__getattribute__',\n",
       " '__getitem__',\n",
       " '__getnewargs__',\n",
       " '__gt__',\n",
       " '__hash__',\n",
       " '__init__',\n",
       " '__init_subclass__',\n",
       " '__iter__',\n",
       " '__le__',\n",
       " '__len__',\n",
       " '__lt__',\n",
       " '__mod__',\n",
       " '__mul__',\n",
       " '__ne__',\n",
       " '__new__',\n",
       " '__reduce__',\n",
       " '__reduce_ex__',\n",
       " '__repr__',\n",
       " '__rmod__',\n",
       " '__rmul__',\n",
       " '__setattr__',\n",
       " '__sizeof__',\n",
       " '__str__',\n",
       " '__subclasshook__',\n",
       " 'capitalize',\n",
       " 'casefold',\n",
       " 'center',\n",
       " 'count',\n",
       " 'encode',\n",
       " 'endswith',\n",
       " 'expandtabs',\n",
       " 'find',\n",
       " 'format',\n",
       " 'format_map',\n",
       " 'index',\n",
       " 'isalnum',\n",
       " 'isalpha',\n",
       " 'isascii',\n",
       " 'isdecimal',\n",
       " 'isdigit',\n",
       " 'isidentifier',\n",
       " 'islower',\n",
       " 'isnumeric',\n",
       " 'isprintable',\n",
       " 'isspace',\n",
       " 'istitle',\n",
       " 'isupper',\n",
       " 'join',\n",
       " 'ljust',\n",
       " 'lower',\n",
       " 'lstrip',\n",
       " 'maketrans',\n",
       " 'partition',\n",
       " 'replace',\n",
       " 'rfind',\n",
       " 'rindex',\n",
       " 'rjust',\n",
       " 'rpartition',\n",
       " 'rsplit',\n",
       " 'rstrip',\n",
       " 'split',\n",
       " 'splitlines',\n",
       " 'startswith',\n",
       " 'strip',\n",
       " 'swapcase',\n",
       " 'title',\n",
       " 'translate',\n",
       " 'upper',\n",
       " 'zfill']"
      ]
     },
     "execution_count": 14,
     "metadata": {},
     "output_type": "execute_result"
    }
   ],
   "source": [
    "dir(str)"
   ]
  },
  {
   "cell_type": "code",
   "execution_count": 37,
   "metadata": {},
   "outputs": [
    {
     "name": "stdout",
     "output_type": "stream",
     "text": [
      "Help on method_descriptor:\n",
      "\n",
      "splitlines(self, /, keepends=False)\n",
      "    Return a list of the lines in the string, breaking at line boundaries.\n",
      "    \n",
      "    Line breaks are not included in the resulting list unless keepends is given and\n",
      "    true.\n",
      "\n"
     ]
    }
   ],
   "source": [
    "help(str.splitlines)"
   ]
  },
  {
   "cell_type": "code",
   "execution_count": 30,
   "metadata": {},
   "outputs": [
    {
     "data": {
      "text/plain": [
       "['a', 'j', 'm', 'n', 'u']"
      ]
     },
     "execution_count": 30,
     "metadata": {},
     "output_type": "execute_result"
    }
   ],
   "source": [
    "a = \"manju\"\n",
    "b = \"manju\"\n",
    "sorted(a) \n"
   ]
  },
  {
   "cell_type": "markdown",
   "metadata": {},
   "source": [
    "INPUT <br>\n",
    "5 <br>\n",
    "s45#45 <br>\n",
    "d$$4567an <br>\n",
    "4569 <br>\n",
    "gdhjvbsh <br>\n",
    "dhgvnbgvf5678i78 <br>\n"
   ]
  },
  {
   "cell_type": "markdown",
   "metadata": {},
   "source": [
    "output <br>\n",
    "4 1 <br>\n",
    "4 3 <br>\n",
    "4 0 <br>\n",
    "0 8 <br>\n",
    "6 10 <br>"
   ]
  }
 ],
 "metadata": {
  "kernelspec": {
   "display_name": "Python 3",
   "language": "python",
   "name": "python3"
  },
  "language_info": {
   "codemirror_mode": {
    "name": "ipython",
    "version": 3
   },
   "file_extension": ".py",
   "mimetype": "text/x-python",
   "name": "python",
   "nbconvert_exporter": "python",
   "pygments_lexer": "ipython3",
   "version": "3.7.3"
  }
 },
 "nbformat": 4,
 "nbformat_minor": 2
}
